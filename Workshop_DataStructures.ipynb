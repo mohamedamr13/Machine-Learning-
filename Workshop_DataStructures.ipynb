{
  "nbformat": 4,
  "nbformat_minor": 0,
  "metadata": {
    "colab": {
      "name": "Workshop_DataStructures.ipynb",
      "provenance": [],
      "include_colab_link": true
    },
    "kernelspec": {
      "display_name": "Python 3",
      "language": "python",
      "name": "python3"
    },
    "language_info": {
      "codemirror_mode": {
        "name": "ipython",
        "version": 3
      },
      "file_extension": ".py",
      "mimetype": "text/x-python",
      "name": "python",
      "nbconvert_exporter": "python",
      "pygments_lexer": "ipython3",
      "version": "3.6.5"
    }
  },
  "cells": [
    {
      "cell_type": "markdown",
      "metadata": {
        "id": "view-in-github",
        "colab_type": "text"
      },
      "source": [
        "<a href=\"https://colab.research.google.com/github/mohamedamr13/gmc/blob/main/Workshop_DataStructures.ipynb\" target=\"_parent\"><img src=\"https://colab.research.google.com/assets/colab-badge.svg\" alt=\"Open In Colab\"/></a>"
      ]
    },
    {
      "cell_type": "markdown",
      "metadata": {
        "id": "aKmMMJ0Mhcy1"
      },
      "source": [
        "# *Go My Code Education Management System*"
      ]
    },
    {
      "cell_type": "markdown",
      "metadata": {
        "id": "Elt8_g5Hhcy7"
      },
      "source": [
        "### Go My Code education system is essentially composed of instructors that supervise students and students that follow some courses."
      ]
    },
    {
      "cell_type": "markdown",
      "metadata": {
        "id": "QcKeQMyohcy_"
      },
      "source": [
        "### Let's consider that a person is defined respectively by : \n",
        "- A first name\n",
        "- A last name\n",
        "- An Id Card Number"
      ]
    },
    {
      "cell_type": "markdown",
      "metadata": {
        "id": "QaWP5DEYhczC"
      },
      "source": [
        "## Instructors Management:"
      ]
    },
    {
      "cell_type": "markdown",
      "metadata": {
        "id": "yM8N5uCkhczF"
      },
      "source": [
        "#### *Knowing that these informations never change, use a suitable data structure to represent a person* :"
      ]
    },
    {
      "cell_type": "code",
      "metadata": {
        "id": "98xkGx33hczI"
      },
      "source": [
        "defperson=(\"first name\",\"last name\", \"Id card number\")"
      ],
      "execution_count": null,
      "outputs": []
    },
    {
      "cell_type": "markdown",
      "metadata": {
        "id": "b8QXynm2hczV"
      },
      "source": [
        "#### *Create now a list that contains 3 instructors* :"
      ]
    },
    {
      "cell_type": "code",
      "metadata": {
        "colab": {
          "base_uri": "https://localhost:8080/"
        },
        "id": "As7-TsRrhczY",
        "outputId": "d9baf56f-74ce-4f88-fec1-e333164e7d89"
      },
      "source": [
        "lisIns = []\n",
        "ins1 = ( \"mohamed\" , \"amr\" , \"3607\" )\n",
        "ins2 = ( \"ahmed\" , \"ameer\" , \"8900\" )\n",
        "ins3 = ( \"joe\" , \"hassan\" , \"0900\" )\n",
        "lisIns.append(ins1)\n",
        "lisIns.append(ins2)\n",
        "lisIns.append(ins3)\n",
        "lisIns\n"
      ],
      "execution_count": 2,
      "outputs": [
        {
          "output_type": "execute_result",
          "data": {
            "text/plain": [
              "[('mohamed', 'amr', '3607'),\n",
              " ('ahmed', 'ameer', '8900'),\n",
              " ('joe', 'hassan', '0900')]"
            ]
          },
          "metadata": {
            "tags": []
          },
          "execution_count": 2
        }
      ]
    },
    {
      "cell_type": "markdown",
      "metadata": {
        "id": "nu1Z71Gfhczg"
      },
      "source": [
        "#### *Order the instructors by Last Name (Asc)* :"
      ]
    },
    {
      "cell_type": "code",
      "metadata": {
        "id": "aQd-Ylv7hczj"
      },
      "source": [
        "defperson1=(\"aziza\",\"amri\",234)\n",
        "defperson2=(\"azza\",\"assi\",934)\n",
        "defperson3=(\"ali\",\"balti\",934)\n",
        "liste= [defperson1,defperson2,defperson3]\n",
        "print(liste)\n",
        "liste.sort()"
      ],
      "execution_count": null,
      "outputs": []
    },
    {
      "cell_type": "markdown",
      "metadata": {
        "id": "C3J6aX8qhczv"
      },
      "source": [
        "#### *Display the instructor that has the shortest Last Name* (Desc) :"
      ]
    },
    {
      "cell_type": "code",
      "metadata": {
        "id": "WYSWzZ1Vhczy",
        "colab": {
          "base_uri": "https://localhost:8080/"
        },
        "outputId": "0ae14744-f382-4554-85d3-b9f1f19c1f98"
      },
      "source": [
        "# Your Code Here\n",
        "lisIns = []\n",
        "ins1 = ( \"mohamed\" , \"amr\" , \"3607\" )\n",
        "ins2 = ( \"ahmed\" , \"ar\" , \"8900\" )\n",
        "ins3 = ( \"joe\" , \"hassan\" , \"0900\" )\n",
        "lisIns.append(ins1)\n",
        "lisIns.append(ins2)\n",
        "lisIns.append(ins3)\n",
        "lisIns\n",
        "min = 999999999\n",
        "shortest = 0\n",
        "for ins in lisIns:\n",
        "  if len(ins[1]) < min:\n",
        "    min = len(ins[1])\n",
        "    shortest = ins\n",
        "\n",
        "shortest\n",
        "\n",
        "\n",
        "\n"
      ],
      "execution_count": 5,
      "outputs": [
        {
          "output_type": "execute_result",
          "data": {
            "text/plain": [
              "('ahmed', 'ar', '8900')"
            ]
          },
          "metadata": {
            "tags": []
          },
          "execution_count": 5
        }
      ]
    },
    {
      "cell_type": "markdown",
      "metadata": {
        "id": "pp-DEDIdhcz6"
      },
      "source": [
        "## Courses & Students Management:"
      ]
    },
    {
      "cell_type": "markdown",
      "metadata": {
        "id": "SX1EK0Bohcz8"
      },
      "source": [
        "#### *Courses storage must not contain duplicates. Represent it with the suitable Data Structure (at least 3 courses)* :"
      ]
    },
    {
      "cell_type": "code",
      "metadata": {
        "id": "Z3ZkIDBbhcz-"
      },
      "source": [
        "# Your Code Here\n",
        "courses = ( (1,\"cs\") )"
      ],
      "execution_count": 47,
      "outputs": []
    },
    {
      "cell_type": "markdown",
      "metadata": {
        "id": "3k2WvMTahc0F"
      },
      "source": [
        "#### *Create two students and affect \"Intro to Data Science\" to their courses sets (from the courses set):* "
      ]
    },
    {
      "cell_type": "code",
      "metadata": {
        "id": "M6YcNOB3hc0L",
        "colab": {
          "base_uri": "https://localhost:8080/"
        },
        "outputId": "48337c18-85dd-47b4-a321-438e49bdc30c"
      },
      "source": [
        "# Your Code Here\n",
        "courses = ( (1,\"cs\") , ( 2 , \"Intro to Data Science\" ) )\n",
        "\n",
        "st1 = ( \"joe\" , \"amr\" , 123 )\n",
        "st2 = ( \"ahmed\" , \"abdelsallam\" , 892 )\n",
        "\n",
        "courses[1][1]\n",
        "\n",
        "studentTakeCourse = { st1[2]: courses[1][1] , st2[2]:courses[1][1]  }\n",
        "\n",
        "studentTakeCourse\n"
      ],
      "execution_count": 18,
      "outputs": [
        {
          "output_type": "execute_result",
          "data": {
            "text/plain": [
              "{123: 'Intro to Data Science', 892: 'Intro to Data Science'}"
            ]
          },
          "metadata": {
            "tags": []
          },
          "execution_count": 18
        }
      ]
    },
    {
      "cell_type": "markdown",
      "metadata": {
        "id": "gozxd-CBhc0Y"
      },
      "source": [
        "#### *Map Every student to his courses* (Use a data structure to represent the courses management):"
      ]
    },
    {
      "cell_type": "code",
      "metadata": {
        "id": "MMZsE-2uhc0c",
        "colab": {
          "base_uri": "https://localhost:8080/"
        },
        "outputId": "7c1efae9-4424-4bac-da76-4579dd8a978b"
      },
      "source": [
        "# Your Code Here\n",
        "\n",
        "courses = ( (1,\"cs\") , ( 2 , \"Intro to Data Science\" ) )\n",
        "\n",
        "st1 = ( \"joe\" , \"amr\" , 123 )\n",
        "st2 = ( \"ahmed\" , \"abdelsallam\" , 892 )\n",
        "\n",
        "studentTakeCourse = dict()\n",
        "\n",
        "def registerStudent(st1):\n",
        " studentTakeCourse[st1] = []\n",
        "\n",
        "def enrollinCourse( st1 , course ):\n",
        "       studentTakeCourse[st1].append(course)\n",
        "\n",
        "\n",
        "def quitCourse( st , course ):\n",
        "    studentTakeCourse[st1].remove(course)\n",
        "\n",
        "\n",
        "registerStudent(st1)\n",
        "enrollinCourse( st1 , courses[1] )\n",
        "enrollinCourse( st1 , courses[0] )\n",
        "\n",
        "studentTakeCourse\n",
        "\n",
        "quitCourse( st1 , courses[0] )\n",
        "\n",
        "studentTakeCourse\n",
        "\n"
      ],
      "execution_count": 46,
      "outputs": [
        {
          "output_type": "execute_result",
          "data": {
            "text/plain": [
              "{('joe', 'amr', 123): [(2, 'Intro to Data Science')]}"
            ]
          },
          "metadata": {
            "tags": []
          },
          "execution_count": 46
        }
      ]
    },
    {
      "cell_type": "markdown",
      "metadata": {
        "id": "459GXCIlhc0s"
      },
      "source": [
        "#### *Display the students following \"Intro to Data Science\" course*:"
      ]
    },
    {
      "cell_type": "code",
      "metadata": {
        "id": "58ihNUklhc0v",
        "colab": {
          "base_uri": "https://localhost:8080/"
        },
        "outputId": "6e506edc-4c9c-47a4-df3b-913dc0427e46"
      },
      "source": [
        "# Your Code Here\n",
        "courses = ( (1,\"cs\") , ( 2 , \"Intro to Data Science\" ) , ( 3 , \"Math\" ) )\n",
        "\n",
        "st1 = ( \"joe\" , \"amr\" , 123 )\n",
        "st2 = ( \"ahmed\" , \"abdelsallam\" , 892 )\n",
        "st3 = ( \"ahmed\" , \"abdelsallam\" , 986 )\n",
        "st4 = ( \"ahmed\" , \"abdelsallam\" , 300 )\n",
        "\n",
        "students = [ st1, st2 , st3 , st4]\n",
        "\n",
        "\n",
        "courses[1][1]\n",
        "\n",
        "studentTakeCourse = { st1[2]: courses[1][1] , st2[2]:courses[1][1] , st3[2]:courses[0][1] , st4[2]:courses[2][1] }\n",
        "studentTakeCourse\n",
        "\n",
        "getDataScience = lambda a : a==\"Intro to Data Science\"\n",
        "\n",
        "\n",
        "\n",
        "# getID = lambda st , id : st[2] == id\n",
        "\n",
        "\n",
        "def isIdRight ( st , id ):\n",
        "  return st[2] == id\n",
        "\n",
        "\n",
        "resStudent = 0\n",
        "\n",
        "def getStudent( students , id ):\n",
        " for student in students:\n",
        "   if( isIdRight(student , id) ):\n",
        "     return student\n",
        "\n",
        "\n",
        "def getDataScienceStudent ( studentTakeCourse ):\n",
        "  res = []\n",
        "  for key in studentTakeCourse.keys():\n",
        "    if  getDataScience ( studentTakeCourse.get(key) ) :\n",
        "         res.append( getStudent(students,key) )\n",
        "    \n",
        "  return res\n",
        "\n",
        "\n",
        "getDataScienceStudent(studentTakeCourse)        "
      ],
      "execution_count": 49,
      "outputs": [
        {
          "output_type": "execute_result",
          "data": {
            "text/plain": [
              "[('joe', 'amr', 123), ('ahmed', 'abdelsallam', 892)]"
            ]
          },
          "metadata": {
            "tags": []
          },
          "execution_count": 49
        }
      ]
    },
    {
      "cell_type": "code",
      "metadata": {
        "id": "6fbqGisIEn2_"
      },
      "source": [
        ""
      ],
      "execution_count": null,
      "outputs": []
    }
  ]
}