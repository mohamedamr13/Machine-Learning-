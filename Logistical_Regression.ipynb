{
  "nbformat": 4,
  "nbformat_minor": 0,
  "metadata": {
    "colab": {
      "name": "Logistical Regression.ipynb",
      "provenance": [],
      "authorship_tag": "ABX9TyO8swTwkvnfk/CV5Z6cMoSr",
      "include_colab_link": true
    },
    "kernelspec": {
      "name": "python3",
      "display_name": "Python 3"
    },
    "language_info": {
      "name": "python"
    }
  },
  "cells": [
    {
      "cell_type": "markdown",
      "metadata": {
        "id": "view-in-github",
        "colab_type": "text"
      },
      "source": [
        "<a href=\"https://colab.research.google.com/github/mohamedamr13/gmc/blob/main/Logistical_Regression.ipynb\" target=\"_parent\"><img src=\"https://colab.research.google.com/assets/colab-badge.svg\" alt=\"Open In Colab\"/></a>"
      ]
    },
    {
      "cell_type": "code",
      "metadata": {
        "id": "ycn0zXo3Srky"
      },
      "source": [
        "import pandas as pd\n",
        "import matplotlib.pyplot as plt\n",
        "import seaborn as sns\n",
        "import numpy as np\n",
        "from sklearn.model_selection import train_test_split\n",
        "from sklearn.linear_model import LogisticRegression\n",
        "from sklearn import metrics"
      ],
      "execution_count": 1,
      "outputs": []
    },
    {
      "cell_type": "code",
      "metadata": {
        "id": "tKH2FX1YS6wo"
      },
      "source": [
        "df = pd.read_csv('titanic-passengers.csv' , sep = ';')"
      ],
      "execution_count": 5,
      "outputs": []
    },
    {
      "cell_type": "code",
      "metadata": {
        "colab": {
          "base_uri": "https://localhost:8080/",
          "height": 203
        },
        "id": "Qi7pRw64S_c0",
        "outputId": "59366070-d2fd-411b-e123-07f0af6eac80"
      },
      "source": [
        "df.head(5)"
      ],
      "execution_count": 6,
      "outputs": [
        {
          "output_type": "execute_result",
          "data": {
            "text/html": [
              "<div>\n",
              "<style scoped>\n",
              "    .dataframe tbody tr th:only-of-type {\n",
              "        vertical-align: middle;\n",
              "    }\n",
              "\n",
              "    .dataframe tbody tr th {\n",
              "        vertical-align: top;\n",
              "    }\n",
              "\n",
              "    .dataframe thead th {\n",
              "        text-align: right;\n",
              "    }\n",
              "</style>\n",
              "<table border=\"1\" class=\"dataframe\">\n",
              "  <thead>\n",
              "    <tr style=\"text-align: right;\">\n",
              "      <th></th>\n",
              "      <th>PassengerId</th>\n",
              "      <th>Survived</th>\n",
              "      <th>Pclass</th>\n",
              "      <th>Name</th>\n",
              "      <th>Sex</th>\n",
              "      <th>Age</th>\n",
              "      <th>SibSp</th>\n",
              "      <th>Parch</th>\n",
              "      <th>Ticket</th>\n",
              "      <th>Fare</th>\n",
              "      <th>Cabin</th>\n",
              "      <th>Embarked</th>\n",
              "    </tr>\n",
              "  </thead>\n",
              "  <tbody>\n",
              "    <tr>\n",
              "      <th>0</th>\n",
              "      <td>343</td>\n",
              "      <td>No</td>\n",
              "      <td>2</td>\n",
              "      <td>Collander, Mr. Erik Gustaf</td>\n",
              "      <td>male</td>\n",
              "      <td>28.0</td>\n",
              "      <td>0</td>\n",
              "      <td>0</td>\n",
              "      <td>248740</td>\n",
              "      <td>13.0000</td>\n",
              "      <td>NaN</td>\n",
              "      <td>S</td>\n",
              "    </tr>\n",
              "    <tr>\n",
              "      <th>1</th>\n",
              "      <td>76</td>\n",
              "      <td>No</td>\n",
              "      <td>3</td>\n",
              "      <td>Moen, Mr. Sigurd Hansen</td>\n",
              "      <td>male</td>\n",
              "      <td>25.0</td>\n",
              "      <td>0</td>\n",
              "      <td>0</td>\n",
              "      <td>348123</td>\n",
              "      <td>7.6500</td>\n",
              "      <td>F G73</td>\n",
              "      <td>S</td>\n",
              "    </tr>\n",
              "    <tr>\n",
              "      <th>2</th>\n",
              "      <td>641</td>\n",
              "      <td>No</td>\n",
              "      <td>3</td>\n",
              "      <td>Jensen, Mr. Hans Peder</td>\n",
              "      <td>male</td>\n",
              "      <td>20.0</td>\n",
              "      <td>0</td>\n",
              "      <td>0</td>\n",
              "      <td>350050</td>\n",
              "      <td>7.8542</td>\n",
              "      <td>NaN</td>\n",
              "      <td>S</td>\n",
              "    </tr>\n",
              "    <tr>\n",
              "      <th>3</th>\n",
              "      <td>568</td>\n",
              "      <td>No</td>\n",
              "      <td>3</td>\n",
              "      <td>Palsson, Mrs. Nils (Alma Cornelia Berglund)</td>\n",
              "      <td>female</td>\n",
              "      <td>29.0</td>\n",
              "      <td>0</td>\n",
              "      <td>4</td>\n",
              "      <td>349909</td>\n",
              "      <td>21.0750</td>\n",
              "      <td>NaN</td>\n",
              "      <td>S</td>\n",
              "    </tr>\n",
              "    <tr>\n",
              "      <th>4</th>\n",
              "      <td>672</td>\n",
              "      <td>No</td>\n",
              "      <td>1</td>\n",
              "      <td>Davidson, Mr. Thornton</td>\n",
              "      <td>male</td>\n",
              "      <td>31.0</td>\n",
              "      <td>1</td>\n",
              "      <td>0</td>\n",
              "      <td>F.C. 12750</td>\n",
              "      <td>52.0000</td>\n",
              "      <td>B71</td>\n",
              "      <td>S</td>\n",
              "    </tr>\n",
              "  </tbody>\n",
              "</table>\n",
              "</div>"
            ],
            "text/plain": [
              "   PassengerId Survived  Pclass  ...     Fare  Cabin  Embarked\n",
              "0          343       No       2  ...  13.0000    NaN         S\n",
              "1           76       No       3  ...   7.6500  F G73         S\n",
              "2          641       No       3  ...   7.8542    NaN         S\n",
              "3          568       No       3  ...  21.0750    NaN         S\n",
              "4          672       No       1  ...  52.0000    B71         S\n",
              "\n",
              "[5 rows x 12 columns]"
            ]
          },
          "metadata": {
            "tags": []
          },
          "execution_count": 6
        }
      ]
    },
    {
      "cell_type": "code",
      "metadata": {
        "id": "NO5VfHgITAsJ"
      },
      "source": [
        "nums = { 'Survived' : {  \"Yes\" : 1 , \"No\" : 0 } }\n",
        "df.replace( nums , inplace = True )"
      ],
      "execution_count": 7,
      "outputs": []
    },
    {
      "cell_type": "code",
      "metadata": {
        "id": "wTf7AXZ-TRL6"
      },
      "source": [
        "x = df[['Fare', 'Age','Pclass']]\n",
        "y = df['Survived']\n",
        "\n",
        "x_train,x_test,y_train,y_test = train_test_split(x,y,test_size=0.25,random_state=0)  "
      ],
      "execution_count": 27,
      "outputs": []
    },
    {
      "cell_type": "code",
      "metadata": {
        "id": "Qro10cjLT1M9"
      },
      "source": [
        "df['Age'].isnull().sum()\n",
        "# df['Age'].fillna( df['Age'].mean() , inplace = True  )\n",
        "df['Cabin'].isnull().sum()\n",
        "df['Cabin'].fillna( df['Cabin'].mode() , inplace = True  )\n",
        "\n"
      ],
      "execution_count": 22,
      "outputs": []
    },
    {
      "cell_type": "code",
      "metadata": {
        "colab": {
          "base_uri": "https://localhost:8080/"
        },
        "id": "oQX2qU1xTsiS",
        "outputId": "54266b1c-e8be-4c1e-a352-a81095c54ef5"
      },
      "source": [
        "\n",
        "logreg = LogisticRegression()   #build our logistic model\n",
        "logreg.fit(x_train, y_train)  #fitting training data\n",
        "y_pred  = logreg.predict(x_test)    #testing model’s performance\n",
        "print(\"Accuracy={:.2f}\".format(logreg.score(x_test, y_test)))"
      ],
      "execution_count": 28,
      "outputs": [
        {
          "output_type": "stream",
          "text": [
            "Accuracy=0.70\n"
          ],
          "name": "stdout"
        }
      ]
    },
    {
      "cell_type": "code",
      "metadata": {
        "colab": {
          "base_uri": "https://localhost:8080/",
          "height": 300
        },
        "id": "etcu81rKT5bo",
        "outputId": "a9b5480c-fd3b-48e2-ff30-60c450431f58"
      },
      "source": [
        "confusion_matrix = pd.crosstab(y_test, y_pred, rownames=['Actual'], colnames=['Predicted'])\n",
        "sns.heatmap(confusion_matrix, annot=True)"
      ],
      "execution_count": 29,
      "outputs": [
        {
          "output_type": "execute_result",
          "data": {
            "text/plain": [
              "<matplotlib.axes._subplots.AxesSubplot at 0x7fbef99aa310>"
            ]
          },
          "metadata": {
            "tags": []
          },
          "execution_count": 29
        },
        {
          "output_type": "display_data",
          "data": {
            "image/png": "[encoded data removed]",
            "text/plain": [
              "<Figure size 432x288 with 2 Axes>"
            ]
          },
          "metadata": {
            "tags": [],
            "needs_background": "light"
          }
        }
      ]
    },
    {
      "cell_type": "code",
      "metadata": {
        "id": "ayvHfwNcWLlW"
      },
      "source": [
        ""
      ],
      "execution_count": null,
      "outputs": []
    },
    {
      "cell_type": "markdown",
      "metadata": {
        "id": "HRAnhNs8W6sJ"
      },
      "source": [
        "A ROC / AUC Graph shows the performance of a model by plotting the TPR vs the FPR rate. Since the TPR and FPR are essentially determined by the threshold that defines what is positive( meaning that after this threshold , data points will be considered positive ) , the ROC / AUC draws the TPR / FPR rate for several threshold values \n",
        "\n",
        "If the rate is 1 that means that the model has predicted all actual positives ; if it is 0 that means that the model's positive predictions were all false. \n",
        "\n",
        "So  there is an infinte number of thresholds that will produce an inifine set of TPR / FPR rates , so how does the graph signify the performance of a model ?\n",
        "\n",
        "This is where the AUC comes in. By measuring the Area-Under-the-Curve through performing smth like a Riemann sum of a discrete set of TPR/FPR rates associated with a discrete set of threshold , the graph shows the perfomance of the model by plotting the overall AUC under the curve and comparing it to the ideal case where the rate is always 1  \n",
        "\n"
      ]
    },
    {
      "cell_type": "code",
      "metadata": {
        "colab": {
          "base_uri": "https://localhost:8080/"
        },
        "id": "WNEyRed8iF5M",
        "outputId": "6ea0f114-b95b-463d-9442-f1effebb3a95"
      },
      "source": [
        "pred_prob = logreg.predict_proba(x_test)\n",
        "pred_prob"
      ],
      "execution_count": 32,
      "outputs": [
        {
          "output_type": "execute_result",
          "data": {
            "text/plain": [
              "array([[0.28119752, 0.71880248],\n",
              "       [0.57181966, 0.42818034],\n",
              "       [0.23620951, 0.76379049],\n",
              "       [0.51051833, 0.48948167],\n",
              "       [0.25879544, 0.74120456],\n",
              "       [0.32133784, 0.67866216],\n",
              "       [0.78427711, 0.21572289],\n",
              "       [0.76384783, 0.23615217],\n",
              "       [0.41095877, 0.58904123],\n",
              "       [0.29134987, 0.70865013],\n",
              "       [0.59442502, 0.40557498],\n",
              "       [0.29825644, 0.70174356],\n",
              "       [0.63615272, 0.36384728],\n",
              "       [0.30198499, 0.69801501],\n",
              "       [0.30005742, 0.69994258],\n",
              "       [0.78446834, 0.21553166],\n",
              "       [0.68654571, 0.31345429],\n",
              "       [0.79676266, 0.20323734],\n",
              "       [0.45787948, 0.54212052],\n",
              "       [0.76511447, 0.23488553],\n",
              "       [0.78165622, 0.21834378],\n",
              "       [0.73400122, 0.26599878],\n",
              "       [0.71389775, 0.28610225],\n",
              "       [0.43439254, 0.56560746],\n",
              "       [0.53612607, 0.46387393],\n",
              "       [0.49337196, 0.50662804],\n",
              "       [0.78492039, 0.21507961],\n",
              "       [0.76950793, 0.23049207],\n",
              "       [0.784386  , 0.215614  ],\n",
              "       [0.78427711, 0.21572289],\n",
              "       [0.69206787, 0.30793213],\n",
              "       [0.80648529, 0.19351471],\n",
              "       [0.57181966, 0.42818034],\n",
              "       [0.85130313, 0.14869687],\n",
              "       [0.54056182, 0.45943818],\n",
              "       [0.7276625 , 0.2723375 ],\n",
              "       [0.61171498, 0.38828502],\n",
              "       [0.63079096, 0.36920904],\n",
              "       [0.83375504, 0.16624496],\n",
              "       [0.46865604, 0.53134396],\n",
              "       [0.7858891 , 0.2141109 ],\n",
              "       [0.6083433 , 0.3916567 ],\n",
              "       [0.55800642, 0.44199358],\n",
              "       [0.75936011, 0.24063989],\n",
              "       [0.78016288, 0.21983712],\n",
              "       [0.78503602, 0.21496398],\n",
              "       [0.20065901, 0.79934099],\n",
              "       [0.78446834, 0.21553166],\n",
              "       [0.53301426, 0.46698574],\n",
              "       [0.87770559, 0.12229441],\n",
              "       [0.52984472, 0.47015528],\n",
              "       [0.77429557, 0.22570443],\n",
              "       [0.85226464, 0.14773536],\n",
              "       [0.11170095, 0.88829905],\n",
              "       [0.26585541, 0.73414459],\n",
              "       [0.73405332, 0.26594668],\n",
              "       [0.83572636, 0.16427364],\n",
              "       [0.7215331 , 0.2784669 ],\n",
              "       [0.78446834, 0.21553166],\n",
              "       [0.83013247, 0.16986753],\n",
              "       [0.2247805 , 0.7752195 ],\n",
              "       [0.57181966, 0.42818034],\n",
              "       [0.3442041 , 0.6557959 ],\n",
              "       [0.78445241, 0.21554759],\n",
              "       [0.73139006, 0.26860994],\n",
              "       [0.46295892, 0.53704108],\n",
              "       [0.74657132, 0.25342868],\n",
              "       [0.76901456, 0.23098544],\n",
              "       [0.30098498, 0.69901502],\n",
              "       [0.74065851, 0.25934149],\n",
              "       [0.75248213, 0.24751787],\n",
              "       [0.7848027 , 0.2151973 ],\n",
              "       [0.55470192, 0.44529808],\n",
              "       [0.30005742, 0.69994258],\n",
              "       [0.32244707, 0.67755293],\n",
              "       [0.76292439, 0.23707561],\n",
              "       [0.35396629, 0.64603371],\n",
              "       [0.72132481, 0.27867519],\n",
              "       [0.78437542, 0.21562458],\n",
              "       [0.55190741, 0.44809259],\n",
              "       [0.75107258, 0.24892742],\n",
              "       [0.24450091, 0.75549909],\n",
              "       [0.84742152, 0.15257848],\n",
              "       [0.58887576, 0.41112424],\n",
              "       [0.42809304, 0.57190696],\n",
              "       [0.81196874, 0.18803126],\n",
              "       [0.78013592, 0.21986408],\n",
              "       [0.11840493, 0.88159507],\n",
              "       [0.6701547 , 0.3298453 ],\n",
              "       [0.76959428, 0.23040572],\n",
              "       [0.77080885, 0.22919115],\n",
              "       [0.29746822, 0.70253178],\n",
              "       [0.35127963, 0.64872037],\n",
              "       [0.5312293 , 0.4687707 ],\n",
              "       [0.64256163, 0.35743837],\n",
              "       [0.78437542, 0.21562458],\n",
              "       [0.65607677, 0.34392323],\n",
              "       [0.60042466, 0.39957534],\n",
              "       [0.73409628, 0.26590372],\n",
              "       [0.86331863, 0.13668137],\n",
              "       [0.68613144, 0.31386856],\n",
              "       [0.72162774, 0.27837226],\n",
              "       [0.72370324, 0.27629676],\n",
              "       [0.66218403, 0.33781597],\n",
              "       [0.54763561, 0.45236439],\n",
              "       [0.55663278, 0.44336722],\n",
              "       [0.31421593, 0.68578407],\n",
              "       [0.78446834, 0.21553166],\n",
              "       [0.83058373, 0.16941627],\n",
              "       [0.39002166, 0.60997834],\n",
              "       [0.80648529, 0.19351471],\n",
              "       [0.77948879, 0.22051121],\n",
              "       [0.44864288, 0.55135712],\n",
              "       [0.56469971, 0.43530029],\n",
              "       [0.8625385 , 0.1374615 ],\n",
              "       [0.34121144, 0.65878856],\n",
              "       [0.82520734, 0.17479266],\n",
              "       [0.46272253, 0.53727747],\n",
              "       [0.78446834, 0.21553166],\n",
              "       [0.43481874, 0.56518126],\n",
              "       [0.72132481, 0.27867519],\n",
              "       [0.8209888 , 0.1790112 ],\n",
              "       [0.79078892, 0.20921108],\n",
              "       [0.31850886, 0.68149114],\n",
              "       [0.77014236, 0.22985764],\n",
              "       [0.56183296, 0.43816704],\n",
              "       [0.72794249, 0.27205751],\n",
              "       [0.8125076 , 0.1874924 ],\n",
              "       [0.36859932, 0.63140068],\n",
              "       [0.73876581, 0.26123419],\n",
              "       [0.54217209, 0.45782791],\n",
              "       [0.7961899 , 0.2038101 ],\n",
              "       [0.54684579, 0.45315421],\n",
              "       [0.75807225, 0.24192775],\n",
              "       [0.70199607, 0.29800393],\n",
              "       [0.28975725, 0.71024275],\n",
              "       [0.50496461, 0.49503539],\n",
              "       [0.63815475, 0.36184525],\n",
              "       [0.65596851, 0.34403149],\n",
              "       [0.56213659, 0.43786341],\n",
              "       [0.81856667, 0.18143333],\n",
              "       [0.29357904, 0.70642096],\n",
              "       [0.73066753, 0.26933247],\n",
              "       [0.786396  , 0.213604  ],\n",
              "       [0.7729645 , 0.2270355 ],\n",
              "       [0.21247779, 0.78752221],\n",
              "       [0.79645734, 0.20354266],\n",
              "       [0.79650059, 0.20349941],\n",
              "       [0.13388046, 0.86611954],\n",
              "       [0.58220194, 0.41779806],\n",
              "       [0.24340608, 0.75659392],\n",
              "       [0.76387611, 0.23612389],\n",
              "       [0.76984199, 0.23015801],\n",
              "       [0.43270127, 0.56729873],\n",
              "       [0.50689192, 0.49310808],\n",
              "       [0.59756379, 0.40243621],\n",
              "       [0.80111393, 0.19888607],\n",
              "       [0.70202895, 0.29797105],\n",
              "       [0.73362702, 0.26637298],\n",
              "       [0.70915639, 0.29084361],\n",
              "       [0.58231653, 0.41768347],\n",
              "       [0.45098243, 0.54901757],\n",
              "       [0.91232535, 0.08767465],\n",
              "       [0.72657819, 0.27342181],\n",
              "       [0.68573407, 0.31426593],\n",
              "       [0.8349271 , 0.1650729 ],\n",
              "       [0.07549952, 0.92450048],\n",
              "       [0.78445241, 0.21554759],\n",
              "       [0.73912024, 0.26087976],\n",
              "       [0.17390706, 0.82609294],\n",
              "       [0.77948879, 0.22051121],\n",
              "       [0.75824211, 0.24175789],\n",
              "       [0.77909986, 0.22090014],\n",
              "       [0.78480003, 0.21519997],\n",
              "       [0.78448427, 0.21551573],\n",
              "       [0.72840873, 0.27159127],\n",
              "       [0.64655508, 0.35344492],\n",
              "       [0.72041304, 0.27958696],\n",
              "       [0.29849314, 0.70150686],\n",
              "       [0.66288781, 0.33711219],\n",
              "       [0.78446834, 0.21553166],\n",
              "       [0.5025817 , 0.4974183 ],\n",
              "       [0.77948879, 0.22051121],\n",
              "       [0.74249616, 0.25750384],\n",
              "       [0.57999802, 0.42000198],\n",
              "       [0.60784348, 0.39215652],\n",
              "       [0.46588844, 0.53411156],\n",
              "       [0.76645236, 0.23354764],\n",
              "       [0.53615557, 0.46384443],\n",
              "       [0.51103416, 0.48896584],\n",
              "       [0.47516019, 0.52483981],\n",
              "       [0.46724853, 0.53275147],\n",
              "       [0.41622221, 0.58377779],\n",
              "       [0.39678569, 0.60321431],\n",
              "       [0.56273948, 0.43726052],\n",
              "       [0.76517096, 0.23482904],\n",
              "       [0.23858516, 0.76141484],\n",
              "       [0.34804241, 0.65195759],\n",
              "       [0.30160777, 0.69839223],\n",
              "       [0.33047278, 0.66952722],\n",
              "       [0.87368718, 0.12631282],\n",
              "       [0.78061065, 0.21938935],\n",
              "       [0.74249616, 0.25750384],\n",
              "       [0.32845214, 0.67154786],\n",
              "       [0.61058593, 0.38941407],\n",
              "       [0.78059722, 0.21940278],\n",
              "       [0.52131888, 0.47868112],\n",
              "       [0.61081199, 0.38918801],\n",
              "       [0.78446834, 0.21553166],\n",
              "       [0.58159259, 0.41840741],\n",
              "       [0.78422131, 0.21577869],\n",
              "       [0.78437542, 0.21562458],\n",
              "       [0.28272359, 0.71727641],\n",
              "       [0.82191343, 0.17808657],\n",
              "       [0.7848027 , 0.2151973 ],\n",
              "       [0.74623545, 0.25376455],\n",
              "       [0.486471  , 0.513529  ],\n",
              "       [0.51341397, 0.48658603],\n",
              "       [0.87730218, 0.12269782],\n",
              "       [0.78446834, 0.21553166],\n",
              "       [0.72188002, 0.27811998],\n",
              "       [0.36634158, 0.63365842],\n",
              "       [0.52275295, 0.47724705]])"
            ]
          },
          "metadata": {
            "tags": []
          },
          "execution_count": 32
        }
      ]
    },
    {
      "cell_type": "code",
      "metadata": {
        "id": "cuQdVXymhIYE"
      },
      "source": [
        "from sklearn.metrics import roc_curve\n",
        "from sklearn.metrics import roc_auc_score\n",
        "fpr1, tpr1, thresh1 = roc_curve(y_test, pred_prob[:,1], pos_label=1)\n",
        "\n"
      ],
      "execution_count": 35,
      "outputs": []
    },
    {
      "cell_type": "code",
      "metadata": {
        "colab": {
          "base_uri": "https://localhost:8080/"
        },
        "id": "xNRATQkpiVaT",
        "outputId": "584d3b2e-5b33-4c0a-b66f-3e0e62a90d02"
      },
      "source": [
        "auc_score1 = roc_auc_score(y_test, pred_prob[:,1])\n",
        "auc_score1"
      ],
      "execution_count": 34,
      "outputs": [
        {
          "output_type": "execute_result",
          "data": {
            "text/plain": [
              "0.6718530239099859"
            ]
          },
          "metadata": {
            "tags": []
          },
          "execution_count": 34
        }
      ]
    },
    {
      "cell_type": "code",
      "metadata": {
        "colab": {
          "base_uri": "https://localhost:8080/",
          "height": 376
        },
        "id": "HAeQ7CYwiiDk",
        "outputId": "6f183a0c-908b-4514-fdfb-e2c4114d9092"
      },
      "source": [
        "plt.style.use('seaborn')\n",
        "plt.plot(fpr1, tpr1, linestyle='--',color='orange', label='Logistic Regression')\n",
        "plt.title('ROC curve')\n",
        "# x label\n",
        "plt.xlabel('False Positive Rate')\n",
        "# y label\n",
        "plt.ylabel('True Positive rate')\n",
        "plt.legend(loc='best')\n",
        "\n",
        "plt.show()\n"
      ],
      "execution_count": 39,
      "outputs": [
        {
          "output_type": "display_data",
          "data": {
            "image/png": "[encoded data removed]",
            "text/plain": [
              "<Figure size 576x396 with 1 Axes>"
            ]
          },
          "metadata": {
            "tags": []
          }
        }
      ]
    },
    {
      "cell_type": "code",
      "metadata": {
        "id": "qHD5yd3EjKtI"
      },
      "source": [
        ""
      ],
      "execution_count": null,
      "outputs": []
    }
  ]
}