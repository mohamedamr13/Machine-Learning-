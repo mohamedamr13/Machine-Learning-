{
  "nbformat": 4,
  "nbformat_minor": 0,
  "metadata": {
    "colab": {
      "name": "DataVizProject.ipynb",
      "provenance": [],
      "authorship_tag": "ABX9TyM1k8ZjonR3ritPrMlnksMU",
      "include_colab_link": true
    },
    "kernelspec": {
      "name": "python3",
      "display_name": "Python 3"
    },
    "language_info": {
      "name": "python"
    }
  },
  "cells": [
    {
      "cell_type": "markdown",
      "metadata": {
        "id": "view-in-github",
        "colab_type": "text"
      },
      "source": [
        "<a href=\"https://colab.research.google.com/github/mohamedamr13/gmc/blob/main/DataVizProject.ipynb\" target=\"_parent\"><img src=\"https://colab.research.google.com/assets/colab-badge.svg\" alt=\"Open In Colab\"/></a>"
      ]
    },
    {
      "cell_type": "code",
      "metadata": {
        "id": "IqqbTgfBVWgm"
      },
      "source": [
        "import pandas as pd\n",
        "import matplotlib.pyplot as plt\n",
        "import seaborn as sns\n",
        "import numpy as np"
      ],
      "execution_count": 1,
      "outputs": []
    },
    {
      "cell_type": "markdown",
      "metadata": {
        "id": "iS8x_ZJqVY4p"
      },
      "source": [
        "1. Preprocessing phase.\n"
      ]
    },
    {
      "cell_type": "code",
      "metadata": {
        "colab": {
          "base_uri": "https://localhost:8080/",
          "height": 203
        },
        "id": "m9XmekHCVxu4",
        "outputId": "6e7003d9-7b58-44df-df05-080f661dde89"
      },
      "source": [
        "df = pd.read_csv('titanic-passengers.csv' , sep = ';')\n",
        "df.head(5)"
      ],
      "execution_count": 9,
      "outputs": [
        {
          "output_type": "execute_result",
          "data": {
            "text/html": [
              "<div>\n",
              "<style scoped>\n",
              "    .dataframe tbody tr th:only-of-type {\n",
              "        vertical-align: middle;\n",
              "    }\n",
              "\n",
              "    .dataframe tbody tr th {\n",
              "        vertical-align: top;\n",
              "    }\n",
              "\n",
              "    .dataframe thead th {\n",
              "        text-align: right;\n",
              "    }\n",
              "</style>\n",
              "<table border=\"1\" class=\"dataframe\">\n",
              "  <thead>\n",
              "    <tr style=\"text-align: right;\">\n",
              "      <th></th>\n",
              "      <th>PassengerId</th>\n",
              "      <th>Survived</th>\n",
              "      <th>Pclass</th>\n",
              "      <th>Name</th>\n",
              "      <th>Sex</th>\n",
              "      <th>Age</th>\n",
              "      <th>SibSp</th>\n",
              "      <th>Parch</th>\n",
              "      <th>Ticket</th>\n",
              "      <th>Fare</th>\n",
              "      <th>Cabin</th>\n",
              "      <th>Embarked</th>\n",
              "    </tr>\n",
              "  </thead>\n",
              "  <tbody>\n",
              "    <tr>\n",
              "      <th>0</th>\n",
              "      <td>343</td>\n",
              "      <td>No</td>\n",
              "      <td>2</td>\n",
              "      <td>Collander, Mr. Erik Gustaf</td>\n",
              "      <td>male</td>\n",
              "      <td>28.0</td>\n",
              "      <td>0</td>\n",
              "      <td>0</td>\n",
              "      <td>248740</td>\n",
              "      <td>13.0000</td>\n",
              "      <td>NaN</td>\n",
              "      <td>S</td>\n",
              "    </tr>\n",
              "    <tr>\n",
              "      <th>1</th>\n",
              "      <td>76</td>\n",
              "      <td>No</td>\n",
              "      <td>3</td>\n",
              "      <td>Moen, Mr. Sigurd Hansen</td>\n",
              "      <td>male</td>\n",
              "      <td>25.0</td>\n",
              "      <td>0</td>\n",
              "      <td>0</td>\n",
              "      <td>348123</td>\n",
              "      <td>7.6500</td>\n",
              "      <td>F G73</td>\n",
              "      <td>S</td>\n",
              "    </tr>\n",
              "    <tr>\n",
              "      <th>2</th>\n",
              "      <td>641</td>\n",
              "      <td>No</td>\n",
              "      <td>3</td>\n",
              "      <td>Jensen, Mr. Hans Peder</td>\n",
              "      <td>male</td>\n",
              "      <td>20.0</td>\n",
              "      <td>0</td>\n",
              "      <td>0</td>\n",
              "      <td>350050</td>\n",
              "      <td>7.8542</td>\n",
              "      <td>NaN</td>\n",
              "      <td>S</td>\n",
              "    </tr>\n",
              "    <tr>\n",
              "      <th>3</th>\n",
              "      <td>568</td>\n",
              "      <td>No</td>\n",
              "      <td>3</td>\n",
              "      <td>Palsson, Mrs. Nils (Alma Cornelia Berglund)</td>\n",
              "      <td>female</td>\n",
              "      <td>29.0</td>\n",
              "      <td>0</td>\n",
              "      <td>4</td>\n",
              "      <td>349909</td>\n",
              "      <td>21.0750</td>\n",
              "      <td>NaN</td>\n",
              "      <td>S</td>\n",
              "    </tr>\n",
              "    <tr>\n",
              "      <th>4</th>\n",
              "      <td>672</td>\n",
              "      <td>No</td>\n",
              "      <td>1</td>\n",
              "      <td>Davidson, Mr. Thornton</td>\n",
              "      <td>male</td>\n",
              "      <td>31.0</td>\n",
              "      <td>1</td>\n",
              "      <td>0</td>\n",
              "      <td>F.C. 12750</td>\n",
              "      <td>52.0000</td>\n",
              "      <td>B71</td>\n",
              "      <td>S</td>\n",
              "    </tr>\n",
              "  </tbody>\n",
              "</table>\n",
              "</div>"
            ],
            "text/plain": [
              "   PassengerId Survived  Pclass  ...     Fare  Cabin  Embarked\n",
              "0          343       No       2  ...  13.0000    NaN         S\n",
              "1           76       No       3  ...   7.6500  F G73         S\n",
              "2          641       No       3  ...   7.8542    NaN         S\n",
              "3          568       No       3  ...  21.0750    NaN         S\n",
              "4          672       No       1  ...  52.0000    B71         S\n",
              "\n",
              "[5 rows x 12 columns]"
            ]
          },
          "metadata": {
            "tags": []
          },
          "execution_count": 9
        }
      ]
    },
    {
      "cell_type": "code",
      "metadata": {
        "colab": {
          "base_uri": "https://localhost:8080/"
        },
        "id": "Ty948qxnV6Zj",
        "outputId": "841ae22c-dc3e-4c71-fa89-949a252fda31"
      },
      "source": [
        "df.info()"
      ],
      "execution_count": 4,
      "outputs": [
        {
          "output_type": "stream",
          "text": [
            "<class 'pandas.core.frame.DataFrame'>\n",
            "Index: 891 entries, 343;No;2;Collander to 428;Yes;2;\"Phillips\n",
            "Data columns (total 1 columns):\n",
            " #   Column                                                                           Non-Null Count  Dtype \n",
            "---  ------                                                                           --------------  ----- \n",
            " 0   PassengerId;Survived;Pclass;Name;Sex;Age;SibSp;Parch;Ticket;Fare;Cabin;Embarked  891 non-null    object\n",
            "dtypes: object(1)\n",
            "memory usage: 13.9+ KB\n"
          ],
          "name": "stdout"
        }
      ]
    },
    {
      "cell_type": "code",
      "metadata": {
        "colab": {
          "base_uri": "https://localhost:8080/"
        },
        "id": "jrLd5FC_WBMs",
        "outputId": "778b0573-f0e1-469a-957a-f6ddb075bc36"
      },
      "source": [
        "df['Survived'].describe()\n",
        "df['Age'].isnull().sum()\n",
        "# df['Age'].fillna( df['Age'].mean() , inplace = True  )\n"
      ],
      "execution_count": 18,
      "outputs": [
        {
          "output_type": "execute_result",
          "data": {
            "text/plain": [
              "0"
            ]
          },
          "metadata": {
            "tags": []
          },
          "execution_count": 18
        }
      ]
    },
    {
      "cell_type": "code",
      "metadata": {
        "colab": {
          "base_uri": "https://localhost:8080/"
        },
        "id": "BdSso1IoWjkN",
        "outputId": "4ccc3765-71ed-4e6c-e8ba-38023f6c9ee1"
      },
      "source": [
        "n = df['Cabin'].isnull().sum()\n",
        "df['Cabin'].describe()\n"
      ],
      "execution_count": 22,
      "outputs": [
        {
          "output_type": "execute_result",
          "data": {
            "text/plain": [
              "891"
            ]
          },
          "metadata": {
            "tags": []
          },
          "execution_count": 22
        }
      ]
    },
    {
      "cell_type": "code",
      "metadata": {
        "colab": {
          "base_uri": "https://localhost:8080/",
          "height": 282
        },
        "id": "C8wSiurdYXXH",
        "outputId": "034214cc-47d5-4b7b-a005-35791afc633e"
      },
      "source": [
        "fare = df['Fare']\n",
        "df['Fare'].describe()\n",
        "# sns.boxplot(df['Fare'])\n",
        "# sns.countplot( x = 'Fare' , data = df )\n",
        "bins = [ 0 , 2 , 4 , 6 , 8 , 10 , 12 , 14 , 16 , 18 , 20 , 22 , 24 , 26 , 28 ]\n",
        "fare.plot.hist( )\n"
      ],
      "execution_count": 34,
      "outputs": [
        {
          "output_type": "execute_result",
          "data": {
            "text/plain": [
              "<matplotlib.axes._subplots.AxesSubplot at 0x7f242cb97450>"
            ]
          },
          "metadata": {
            "tags": []
          },
          "execution_count": 34
        },
        {
          "output_type": "display_data",
          "data": {
            "image/png": "[encoded data removed]",
            "text/plain": [
              "<Figure size 432x288 with 1 Axes>"
            ]
          },
          "metadata": {
            "tags": [],
            "needs_background": "light"
          }
        }
      ]
    },
    {
      "cell_type": "markdown",
      "metadata": {
        "id": "IkQ2b07IcQNH"
      },
      "source": [
        "2 . Data Visualization"
      ]
    },
    {
      "cell_type": "markdown",
      "metadata": {
        "id": "xB59-AmZdMUp"
      },
      "source": [
        "* Relation between Age/Sex and Survival *"
      ]
    },
    {
      "cell_type": "code",
      "metadata": {
        "colab": {
          "base_uri": "https://localhost:8080/",
          "height": 203
        },
        "id": "1P75Dx4XdwNu",
        "outputId": "da8cc53e-86a0-4c8a-d290-3fac985de849"
      },
      "source": [
        "df['Survived'].describe()\n",
        "nums = { 'Survived' : {  \"Yes\" : 1 , \"No\" : 0 } }\n",
        "# df.replace( nums , inplace = True )"
      ],
      "execution_count": 40,
      "outputs": [
        {
          "output_type": "execute_result",
          "data": {
            "text/html": [
              "<div>\n",
              "<style scoped>\n",
              "    .dataframe tbody tr th:only-of-type {\n",
              "        vertical-align: middle;\n",
              "    }\n",
              "\n",
              "    .dataframe tbody tr th {\n",
              "        vertical-align: top;\n",
              "    }\n",
              "\n",
              "    .dataframe thead th {\n",
              "        text-align: right;\n",
              "    }\n",
              "</style>\n",
              "<table border=\"1\" class=\"dataframe\">\n",
              "  <thead>\n",
              "    <tr style=\"text-align: right;\">\n",
              "      <th></th>\n",
              "      <th>PassengerId</th>\n",
              "      <th>Survived</th>\n",
              "      <th>Pclass</th>\n",
              "      <th>Name</th>\n",
              "      <th>Sex</th>\n",
              "      <th>Age</th>\n",
              "      <th>SibSp</th>\n",
              "      <th>Parch</th>\n",
              "      <th>Ticket</th>\n",
              "      <th>Fare</th>\n",
              "      <th>Cabin</th>\n",
              "      <th>Embarked</th>\n",
              "    </tr>\n",
              "  </thead>\n",
              "  <tbody>\n",
              "    <tr>\n",
              "      <th>0</th>\n",
              "      <td>343</td>\n",
              "      <td>0</td>\n",
              "      <td>2</td>\n",
              "      <td>Collander, Mr. Erik Gustaf</td>\n",
              "      <td>male</td>\n",
              "      <td>28.0</td>\n",
              "      <td>0</td>\n",
              "      <td>0</td>\n",
              "      <td>248740</td>\n",
              "      <td>13.0000</td>\n",
              "      <td>NaN</td>\n",
              "      <td>S</td>\n",
              "    </tr>\n",
              "    <tr>\n",
              "      <th>1</th>\n",
              "      <td>76</td>\n",
              "      <td>0</td>\n",
              "      <td>3</td>\n",
              "      <td>Moen, Mr. Sigurd Hansen</td>\n",
              "      <td>male</td>\n",
              "      <td>25.0</td>\n",
              "      <td>0</td>\n",
              "      <td>0</td>\n",
              "      <td>348123</td>\n",
              "      <td>7.6500</td>\n",
              "      <td>F G73</td>\n",
              "      <td>S</td>\n",
              "    </tr>\n",
              "    <tr>\n",
              "      <th>2</th>\n",
              "      <td>641</td>\n",
              "      <td>0</td>\n",
              "      <td>3</td>\n",
              "      <td>Jensen, Mr. Hans Peder</td>\n",
              "      <td>male</td>\n",
              "      <td>20.0</td>\n",
              "      <td>0</td>\n",
              "      <td>0</td>\n",
              "      <td>350050</td>\n",
              "      <td>7.8542</td>\n",
              "      <td>NaN</td>\n",
              "      <td>S</td>\n",
              "    </tr>\n",
              "    <tr>\n",
              "      <th>3</th>\n",
              "      <td>568</td>\n",
              "      <td>0</td>\n",
              "      <td>3</td>\n",
              "      <td>Palsson, Mrs. Nils (Alma Cornelia Berglund)</td>\n",
              "      <td>female</td>\n",
              "      <td>29.0</td>\n",
              "      <td>0</td>\n",
              "      <td>4</td>\n",
              "      <td>349909</td>\n",
              "      <td>21.0750</td>\n",
              "      <td>NaN</td>\n",
              "      <td>S</td>\n",
              "    </tr>\n",
              "    <tr>\n",
              "      <th>4</th>\n",
              "      <td>672</td>\n",
              "      <td>0</td>\n",
              "      <td>1</td>\n",
              "      <td>Davidson, Mr. Thornton</td>\n",
              "      <td>male</td>\n",
              "      <td>31.0</td>\n",
              "      <td>1</td>\n",
              "      <td>0</td>\n",
              "      <td>F.C. 12750</td>\n",
              "      <td>52.0000</td>\n",
              "      <td>B71</td>\n",
              "      <td>S</td>\n",
              "    </tr>\n",
              "  </tbody>\n",
              "</table>\n",
              "</div>"
            ],
            "text/plain": [
              "   PassengerId  Survived  Pclass  ...     Fare  Cabin  Embarked\n",
              "0          343         0       2  ...  13.0000    NaN         S\n",
              "1           76         0       3  ...   7.6500  F G73         S\n",
              "2          641         0       3  ...   7.8542    NaN         S\n",
              "3          568         0       3  ...  21.0750    NaN         S\n",
              "4          672         0       1  ...  52.0000    B71         S\n",
              "\n",
              "[5 rows x 12 columns]"
            ]
          },
          "metadata": {
            "tags": []
          },
          "execution_count": 40
        }
      ]
    },
    {
      "cell_type": "code",
      "metadata": {
        "colab": {
          "base_uri": "https://localhost:8080/",
          "height": 458
        },
        "id": "uPfp3pekYx4x",
        "outputId": "decd3d10-d96e-4389-ed41-96a48c1ae1a5"
      },
      "source": [
        "grid = sns.FacetGrid(df, row=\"Survived\")\n",
        "grid.map(plt.hist, 'Age' , bins = 20)\n"
      ],
      "execution_count": 67,
      "outputs": [
        {
          "output_type": "execute_result",
          "data": {
            "text/plain": [
              "<seaborn.axisgrid.FacetGrid at 0x7f2420bc3690>"
            ]
          },
          "metadata": {
            "tags": []
          },
          "execution_count": 67
        },
        {
          "output_type": "display_data",
          "data": {
            "image/png": "[encoded data removed]",
            "text/plain": [
              "<Figure size 216x432 with 2 Axes>"
            ]
          },
          "metadata": {
            "tags": [],
            "needs_background": "light"
          }
        }
      ]
    },
    {
      "cell_type": "code",
      "metadata": {
        "colab": {
          "base_uri": "https://localhost:8080/",
          "height": 296
        },
        "id": "U30w9g21fe53",
        "outputId": "1cabc905-bbc8-4c87-b967-778b6ce7ec36"
      },
      "source": [
        "l = df[ df['Age'] < 40 ]\n",
        "sns.barplot( x = 'Age' , y = 'Survived' , data = l)\n"
      ],
      "execution_count": 80,
      "outputs": [
        {
          "output_type": "execute_result",
          "data": {
            "text/plain": [
              "<matplotlib.axes._subplots.AxesSubplot at 0x7f242048a910>"
            ]
          },
          "metadata": {
            "tags": []
          },
          "execution_count": 80
        },
        {
          "output_type": "display_data",
          "data": {
            "image/png": "[encoded data removed]",
            "text/plain": [
              "<Figure size 432x288 with 1 Axes>"
            ]
          },
          "metadata": {
            "tags": [],
            "needs_background": "light"
          }
        }
      ]
    },
    {
      "cell_type": "code",
      "metadata": {
        "colab": {
          "base_uri": "https://localhost:8080/",
          "height": 458
        },
        "id": "qtE3BJsfi_8-",
        "outputId": "d3c46a79-5c88-4273-c9af-b2319119861e"
      },
      "source": [
        "grid = sns.FacetGrid(df, row=\"Sex\")\n",
        "grid.map(plt.hist, 'Survived' , bins = 20)\n"
      ],
      "execution_count": 69,
      "outputs": [
        {
          "output_type": "execute_result",
          "data": {
            "text/plain": [
              "<seaborn.axisgrid.FacetGrid at 0x7f24208f0410>"
            ]
          },
          "metadata": {
            "tags": []
          },
          "execution_count": 69
        },
        {
          "output_type": "display_data",
          "data": {
            "image/png": "[encoded data removed]",
            "text/plain": [
              "<Figure size 216x432 with 2 Axes>"
            ]
          },
          "metadata": {
            "tags": [],
            "needs_background": "light"
          }
        }
      ]
    },
    {
      "cell_type": "code",
      "metadata": {
        "colab": {
          "base_uri": "https://localhost:8080/",
          "height": 534
        },
        "id": "A5WlmH1Zlt3_",
        "outputId": "c0708229-f1bd-4f4f-e8a1-018f61475193"
      },
      "source": [
        "fig_dims = (40, 8)\n",
        "fig, ax = plt.subplots(figsize=fig_dims)\n",
        "sns.barplot(x = \"Age\", y = \"Survived\", ax=ax, data=l)"
      ],
      "execution_count": 81,
      "outputs": [
        {
          "output_type": "execute_result",
          "data": {
            "text/plain": [
              "<matplotlib.axes._subplots.AxesSubplot at 0x7f241f0b74d0>"
            ]
          },
          "metadata": {
            "tags": []
          },
          "execution_count": 81
        },
        {
          "output_type": "display_data",
          "data": {
            "image/png": "[encoded data removed]",
            "text/plain": [
              "<Figure size 2880x576 with 1 Axes>"
            ]
          },
          "metadata": {
            "tags": [],
            "needs_background": "light"
          }
        }
      ]
    },
    {
      "cell_type": "markdown",
      "metadata": {
        "id": "FAlTWXV_nuqS"
      },
      "source": [
        "Relation between Fare and Survival\n"
      ]
    },
    {
      "cell_type": "code",
      "metadata": {
        "colab": {
          "base_uri": "https://localhost:8080/",
          "height": 458
        },
        "id": "zWon7cFlmkjV",
        "outputId": "3b3e48fa-2b60-4c00-b516-9caf2904ac83"
      },
      "source": [
        "grid = sns.FacetGrid(df, row=\"Survived\")\n",
        "grid.map(plt.hist, 'Fare' , bins = 20)\n"
      ],
      "execution_count": 88,
      "outputs": [
        {
          "output_type": "execute_result",
          "data": {
            "text/plain": [
              "<seaborn.axisgrid.FacetGrid at 0x7f241e85a190>"
            ]
          },
          "metadata": {
            "tags": []
          },
          "execution_count": 88
        },
        {
          "output_type": "display_data",
          "data": {
            "image/png": "[encoded data removed]",
            "text/plain": [
              "<Figure size 216x432 with 2 Axes>"
            ]
          },
          "metadata": {
            "tags": [],
            "needs_background": "light"
          }
        }
      ]
    },
    {
      "cell_type": "markdown",
      "metadata": {
        "id": "-_SypAnfobli"
      },
      "source": [
        "Relation between Class and survival\n"
      ]
    },
    {
      "cell_type": "code",
      "metadata": {
        "colab": {
          "base_uri": "https://localhost:8080/",
          "height": 296
        },
        "id": "Wa3CuZ1en7yf",
        "outputId": "67c6bc4f-f858-481a-c44b-460a834128c8"
      },
      "source": [
        "sns.histplot( x = 'Pclass' , data = df)"
      ],
      "execution_count": 95,
      "outputs": [
        {
          "output_type": "execute_result",
          "data": {
            "text/plain": [
              "<matplotlib.axes._subplots.AxesSubplot at 0x7f241ea8ebd0>"
            ]
          },
          "metadata": {
            "tags": []
          },
          "execution_count": 95
        },
        {
          "output_type": "display_data",
          "data": {
            "image/png": "[encoded data removed]",
            "text/plain": [
              "<Figure size 432x288 with 1 Axes>"
            ]
          },
          "metadata": {
            "tags": [],
            "needs_background": "light"
          }
        }
      ]
    },
    {
      "cell_type": "code",
      "metadata": {
        "colab": {
          "base_uri": "https://localhost:8080/",
          "height": 458
        },
        "id": "7SQ9QGffpYlY",
        "outputId": "1350477e-37d4-4d80-bc04-d74741923431"
      },
      "source": [
        "grid = sns.FacetGrid(df, row=\"Survived\")\n",
        "grid.map(plt.hist, 'Pclass' , bins = 2)\n"
      ],
      "execution_count": 97,
      "outputs": [
        {
          "output_type": "execute_result",
          "data": {
            "text/plain": [
              "<seaborn.axisgrid.FacetGrid at 0x7f241e586290>"
            ]
          },
          "metadata": {
            "tags": []
          },
          "execution_count": 97
        },
        {
          "output_type": "display_data",
          "data": {
            "image/png": "[encoded data removed]",
            "text/plain": [
              "<Figure size 216x432 with 2 Axes>"
            ]
          },
          "metadata": {
            "tags": [],
            "needs_background": "light"
          }
        }
      ]
    },
    {
      "cell_type": "code",
      "metadata": {
        "colab": {
          "base_uri": "https://localhost:8080/",
          "height": 584
        },
        "id": "M6FjGL2Ap595",
        "outputId": "c58324b5-3815-4b0e-bebc-a8f2d21a76b3"
      },
      "source": [
        "def plot_correlation_map( df ):\n",
        "\n",
        "    corr = df.corr()\n",
        "\n",
        "    s , ax = plt.subplots( figsize =( 12 , 10 ) )\n",
        "\n",
        "    cmap = sns.diverging_palette( 220 , 10 , as_cmap = True )\n",
        "\n",
        "    s = sns.heatmap(\n",
        "\n",
        "        corr, \n",
        "\n",
        "        cmap = cmap,\n",
        "\n",
        "        square=True, \n",
        "\n",
        "        cbar_kws={ 'shrink' : .9 }, \n",
        "\n",
        "        ax=ax, \n",
        "\n",
        "        annot = True, \n",
        "\n",
        "        annot_kws = { 'fontsize' : 12 }\n",
        "\n",
        "        )\n",
        "    \n",
        "plot_correlation_map(df)"
      ],
      "execution_count": 99,
      "outputs": [
        {
          "output_type": "display_data",
          "data": {
            "image/png": "[encoded data removed]",
            "text/plain": [
              "<Figure size 864x720 with 2 Axes>"
            ]
          },
          "metadata": {
            "tags": [],
            "needs_background": "light"
          }
        }
      ]
    },
    {
      "cell_type": "markdown",
      "metadata": {
        "id": "0X_gW-vNqrMs"
      },
      "source": [
        "It shows the degree of corelation and whether the corelation is positive or negative between all the columns in a table \n"
      ]
    },
    {
      "cell_type": "markdown",
      "metadata": {
        "id": "c5t7_41er8De"
      },
      "source": [
        "Relation between Class and survival rate"
      ]
    },
    {
      "cell_type": "code",
      "metadata": {
        "colab": {
          "base_uri": "https://localhost:8080/",
          "height": 172
        },
        "id": "RwUtTOTCroDP",
        "outputId": "8bcf3ab0-018d-4025-fead-48f7a53aae67"
      },
      "source": [
        "df[['Survived','Pclass']].groupby(['Pclass'], as_index=True).mean()\n"
      ],
      "execution_count": 108,
      "outputs": [
        {
          "output_type": "execute_result",
          "data": {
            "text/html": [
              "<div>\n",
              "<style scoped>\n",
              "    .dataframe tbody tr th:only-of-type {\n",
              "        vertical-align: middle;\n",
              "    }\n",
              "\n",
              "    .dataframe tbody tr th {\n",
              "        vertical-align: top;\n",
              "    }\n",
              "\n",
              "    .dataframe thead th {\n",
              "        text-align: right;\n",
              "    }\n",
              "</style>\n",
              "<table border=\"1\" class=\"dataframe\">\n",
              "  <thead>\n",
              "    <tr style=\"text-align: right;\">\n",
              "      <th></th>\n",
              "      <th>Survived</th>\n",
              "    </tr>\n",
              "    <tr>\n",
              "      <th>Pclass</th>\n",
              "      <th></th>\n",
              "    </tr>\n",
              "  </thead>\n",
              "  <tbody>\n",
              "    <tr>\n",
              "      <th>1</th>\n",
              "      <td>0.629630</td>\n",
              "    </tr>\n",
              "    <tr>\n",
              "      <th>2</th>\n",
              "      <td>0.472826</td>\n",
              "    </tr>\n",
              "    <tr>\n",
              "      <th>3</th>\n",
              "      <td>0.242363</td>\n",
              "    </tr>\n",
              "  </tbody>\n",
              "</table>\n",
              "</div>"
            ],
            "text/plain": [
              "        Survived\n",
              "Pclass          \n",
              "1       0.629630\n",
              "2       0.472826\n",
              "3       0.242363"
            ]
          },
          "metadata": {
            "tags": []
          },
          "execution_count": 108
        }
      ]
    },
    {
      "cell_type": "code",
      "metadata": {
        "id": "yLcu4flSrxWY"
      },
      "source": [
        ""
      ],
      "execution_count": null,
      "outputs": []
    }
  ]
}