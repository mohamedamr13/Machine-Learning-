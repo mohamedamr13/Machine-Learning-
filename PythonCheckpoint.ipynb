{
  "nbformat": 4,
  "nbformat_minor": 0,
  "metadata": {
    "colab": {
      "name": "PythonCheckpoint.ipynb",
      "provenance": []
    },
    "kernelspec": {
      "name": "python3",
      "display_name": "Python 3"
    },
    "language_info": {
      "name": "python"
    }
  },
  "cells": [
    {
      "cell_type": "code",
      "metadata": {
        "colab": {
          "base_uri": "https://localhost:8080/"
        },
        "id": "e9gymdHXmWfK",
        "outputId": "c5ac5edd-0d1b-4e59-93af-fa6557f3eab7"
      },
      "source": [
        "res = []\n",
        "for i in range(2000,3200):\n",
        "  if i%7 == 0 and i%5 != 0:\n",
        "    res.append(i)\n",
        "\n",
        "print(res)   \n",
        "\n",
        "\n",
        "\n",
        "  \n"
      ],
      "execution_count": 6,
      "outputs": [
        {
          "output_type": "execute_result",
          "data": {
            "text/plain": [
              "120"
            ]
          },
          "metadata": {
            "tags": []
          },
          "execution_count": 6
        }
      ]
    },
    {
      "cell_type": "code",
      "metadata": {
        "id": "xTKvDfIKpj6z"
      },
      "source": [
        ""
      ],
      "execution_count": null,
      "outputs": []
    },
    {
      "cell_type": "code",
      "metadata": {
        "colab": {
          "base_uri": "https://localhost:8080/"
        },
        "id": "uWgmBzvco2sb",
        "outputId": "7e04c7e9-adab-4515-bdd8-9cf9ff824272"
      },
      "source": [
        "def fact( n ):\n",
        "  if n == 1:\n",
        "    return 1\n",
        "  else:\n",
        "    return n * fact(n-1)\n",
        "\n",
        "fact(5)"
      ],
      "execution_count": 9,
      "outputs": [
        {
          "output_type": "execute_result",
          "data": {
            "text/plain": [
              "120"
            ]
          },
          "metadata": {
            "tags": []
          },
          "execution_count": 9
        }
      ]
    },
    {
      "cell_type": "code",
      "metadata": {
        "colab": {
          "base_uri": "https://localhost:8080/"
        },
        "id": "ujhTjs-mpk_0",
        "outputId": "955d39bc-38d0-4f35-9612-ee3139fa3a4d"
      },
      "source": [
        "def power (n):\n",
        " dic =  dict()\n",
        " for i in range(1,n+1):\n",
        "   dic[i] = i*i\n",
        " return dic\n",
        "\n",
        "power(8)\n",
        "\n",
        "\n"
      ],
      "execution_count": 1,
      "outputs": [
        {
          "output_type": "execute_result",
          "data": {
            "text/plain": [
              "{1: 1, 2: 4, 3: 9, 4: 16, 5: 25, 6: 36, 7: 49, 8: 64}"
            ]
          },
          "metadata": {
            "tags": []
          },
          "execution_count": 1
        }
      ]
    },
    {
      "cell_type": "code",
      "metadata": {
        "colab": {
          "base_uri": "https://localhost:8080/",
          "height": 36
        },
        "id": "Qd9QHHGcP9FX",
        "outputId": "3ea97418-dea6-4081-b230-f46198a0252d"
      },
      "source": [
        "## Question 4 \n",
        "\n",
        "# Given a non-empty string and an int n, return a new string where \n",
        "# the char at index n has been removed. The value of n will be a \n",
        "# valid index of a char in the original string (i.e. n will be in the \n",
        "#                                               range 0..len(str)-1 inclusive). \n",
        "\n",
        "st = \"kitten\"\n",
        "\n",
        "def removeChar( st , removeIndex ):\n",
        "     return  st.replace( st[removeIndex] , '' )\n",
        "removeChar( st , 1 )\n",
        "\n",
        "\n"
      ],
      "execution_count": 6,
      "outputs": [
        {
          "output_type": "execute_result",
          "data": {
            "application/vnd.google.colaboratory.intrinsic+json": {
              "type": "string"
            },
            "text/plain": [
              "'ktten'"
            ]
          },
          "metadata": {
            "tags": []
          },
          "execution_count": 6
        }
      ]
    },
    {
      "cell_type": "code",
      "metadata": {
        "colab": {
          "base_uri": "https://localhost:8080/"
        },
        "id": "bIXjRx19qQJ9",
        "outputId": "29852d5b-d8db-465b-dfb3-09ebc2d47219"
      },
      "source": [
        "import numpy as np\n",
        "l = np.array( [[0,1],[2,3],[4,5]] )\n",
        "arr = l.tolist()\n",
        "arr\n"
      ],
      "execution_count": 16,
      "outputs": [
        {
          "output_type": "execute_result",
          "data": {
            "text/plain": [
              "[[0, 1], [2, 3], [4, 5]]"
            ]
          },
          "metadata": {
            "tags": []
          },
          "execution_count": 16
        }
      ]
    },
    {
      "cell_type": "code",
      "metadata": {
        "colab": {
          "base_uri": "https://localhost:8080/"
        },
        "id": "tG51kuwfq4M1",
        "outputId": "5fc54ed5-137c-4e8b-bb0e-246cb95b3925"
      },
      "source": [
        "import numpy as np\n",
        "def covar(arr1 , arr2):\n",
        "  return np.cov(arr1, arr2)\n",
        "\n",
        "covar( np.array([0,1,2]) , np.array([2,1,0]) )"
      ],
      "execution_count": 18,
      "outputs": [
        {
          "output_type": "execute_result",
          "data": {
            "text/plain": [
              "array([[ 1., -1.],\n",
              "       [-1.,  1.]])"
            ]
          },
          "metadata": {
            "tags": []
          },
          "execution_count": 18
        }
      ]
    },
    {
      "cell_type": "code",
      "metadata": {
        "colab": {
          "base_uri": "https://localhost:8080/"
        },
        "id": "ixlz6SeBrOC-",
        "outputId": "61398aa8-83b1-4c73-d25b-edab11758ebc"
      },
      "source": [
        "#Question: Write a program that calculates and prints the value according to the given formula: Q = Square root of [(2 * C * D)/H] \n",
        "import math\n",
        "C = 50\n",
        "H = 30\n",
        "D = input()\n",
        "dList = D.split(\",\")\n",
        "dList\n",
        "\n",
        "\n",
        "res = list( map( lambda x : math.floor (math.sqrt( (2*C* int( x))/H) ) , dList  ) )\n",
        "res\n"
      ],
      "execution_count": 18,
      "outputs": [
        {
          "output_type": "stream",
          "text": [
            "100,150,180\n"
          ],
          "name": "stdout"
        },
        {
          "output_type": "execute_result",
          "data": {
            "text/plain": [
              "[18, 22, 24]"
            ]
          },
          "metadata": {
            "tags": []
          },
          "execution_count": 18
        }
      ]
    },
    {
      "cell_type": "code",
      "metadata": {
        "id": "2GvRmrShVaq6"
      },
      "source": [
        ""
      ],
      "execution_count": null,
      "outputs": []
    }
  ]
}