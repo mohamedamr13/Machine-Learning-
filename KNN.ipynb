{
  "nbformat": 4,
  "nbformat_minor": 0,
  "metadata": {
    "colab": {
      "name": "KNN.ipynb",
      "provenance": [],
      "collapsed_sections": [],
      "toc_visible": true,
      "authorship_tag": "ABX9TyPqBbbJfQrKdbvF3x4mN2i8",
      "include_colab_link": true
    },
    "kernelspec": {
      "name": "python3",
      "display_name": "Python 3"
    },
    "language_info": {
      "name": "python"
    }
  },
  "cells": [
    {
      "cell_type": "markdown",
      "metadata": {
        "id": "view-in-github",
        "colab_type": "text"
      },
      "source": [
        "<a href=\"https://colab.research.google.com/github/mohamedamr13/Machine-Learning-/blob/main/KNN.ipynb\" target=\"_parent\"><img src=\"https://colab.research.google.com/assets/colab-badge.svg\" alt=\"Open In Colab\"/></a>"
      ]
    },
    {
      "cell_type": "code",
      "metadata": {
        "id": "fHGxO2AN-ek_"
      },
      "source": [
        "import pandas as pd\n",
        "import matplotlib.pyplot as plt\n",
        "import seaborn as sns\n",
        "import numpy as np\n",
        "from sklearn.model_selection import train_test_split\n",
        "from sklearn.linear_model import LogisticRegression\n",
        "from sklearn import metrics\n",
        "import random"
      ],
      "execution_count": null,
      "outputs": []
    },
    {
      "cell_type": "code",
      "metadata": {
        "id": "-HojNN2S-x9v"
      },
      "source": [
        "df = pd.read_csv('iris.data.csv')"
      ],
      "execution_count": null,
      "outputs": []
    },
    {
      "cell_type": "code",
      "metadata": {
        "id": "dBafUp4d-0UK"
      },
      "source": [
        "trainingSet = pd.DataFrame()\n",
        "testSet = pd.DataFrame()\n",
        "\n",
        "def splitSet( split ):\n",
        " for x in df:\n",
        "   if random.random() < split:\n",
        "     trainingSet.append(x)\n",
        "   else:\n",
        "     testSet.append(x)"
      ],
      "execution_count": null,
      "outputs": []
    },
    {
      "cell_type": "code",
      "metadata": {
        "id": "gYZS3frF-4hC"
      },
      "source": [
        "splitSet(0.66)\n",
        "testSet.head(5)"
      ],
      "execution_count": null,
      "outputs": []
    },
    {
      "cell_type": "code",
      "metadata": {
        "id": "XMPTfIQrADs5"
      },
      "source": [
        "\n",
        "import csv\n",
        "import random \n",
        "def loadDataset(filename, split, trainingSet=[] , testSet=[]):\n",
        "\n",
        " with open(filename, 'r') as csvfile:\n",
        "   lines = csv.reader(csvfile)\n",
        "\n",
        "   dataset = list(lines)\n",
        "   for x in range(len(dataset)-1):\n",
        "     selTuple = []\n",
        "     for y in range(4):\n",
        "       selTuple.append( float( dataset[x][y]) )\n",
        "     selTuple.append( dataset[x][4] )\n",
        "     if random.random() < split:\n",
        "       testSet.append( selTuple ) \n",
        "     else:\n",
        "       trainingSet.append(selTuple)\n"
      ],
      "execution_count": 5,
      "outputs": []
    },
    {
      "cell_type": "code",
      "metadata": {
        "colab": {
          "base_uri": "https://localhost:8080/"
        },
        "id": "nznFpouDBwbY",
        "outputId": "47e41388-38e2-43d3-f305-12e0dc7adca2"
      },
      "source": [
        "trainingSet = [] \n",
        "testSet= []\n",
        "loadDataset( 'iris.data.txt' , 0.4 , trainingSet , testSet)\n",
        "print ('Train: ' + repr(len(trainingSet)))\n",
        "trainingSet\n"
      ],
      "execution_count": null,
      "outputs": [
        {
          "output_type": "stream",
          "text": [
            "Train: 90\n"
          ],
          "name": "stdout"
        },
        {
          "output_type": "execute_result",
          "data": {
            "text/plain": [
              "[[4.9, 3.0, 1.4, 0.2, 'Iris-setosa'],\n",
              " [4.7, 3.2, 1.3, 0.2, 'Iris-setosa'],\n",
              " [4.6, 3.1, 1.5, 0.2, 'Iris-setosa'],\n",
              " [5.0, 3.6, 1.4, 0.2, 'Iris-setosa'],\n",
              " [4.6, 3.4, 1.4, 0.3, 'Iris-setosa'],\n",
              " [5.0, 3.4, 1.5, 0.2, 'Iris-setosa'],\n",
              " [4.9, 3.1, 1.5, 0.1, 'Iris-setosa'],\n",
              " [4.8, 3.4, 1.6, 0.2, 'Iris-setosa'],\n",
              " [4.8, 3.0, 1.4, 0.1, 'Iris-setosa'],\n",
              " [4.3, 3.0, 1.1, 0.1, 'Iris-setosa'],\n",
              " [5.7, 4.4, 1.5, 0.4, 'Iris-setosa'],\n",
              " [5.4, 3.9, 1.3, 0.4, 'Iris-setosa'],\n",
              " [5.1, 3.5, 1.4, 0.3, 'Iris-setosa'],\n",
              " [5.1, 3.8, 1.5, 0.3, 'Iris-setosa'],\n",
              " [5.4, 3.4, 1.7, 0.2, 'Iris-setosa'],\n",
              " [5.1, 3.3, 1.7, 0.5, 'Iris-setosa'],\n",
              " [4.8, 3.4, 1.9, 0.2, 'Iris-setosa'],\n",
              " [5.0, 3.4, 1.6, 0.4, 'Iris-setosa'],\n",
              " [5.2, 3.4, 1.4, 0.2, 'Iris-setosa'],\n",
              " [4.7, 3.2, 1.6, 0.2, 'Iris-setosa'],\n",
              " [4.8, 3.1, 1.6, 0.2, 'Iris-setosa'],\n",
              " [5.2, 4.1, 1.5, 0.1, 'Iris-setosa'],\n",
              " [4.9, 3.1, 1.5, 0.1, 'Iris-setosa'],\n",
              " [4.9, 3.1, 1.5, 0.1, 'Iris-setosa'],\n",
              " [4.4, 3.2, 1.3, 0.2, 'Iris-setosa'],\n",
              " [5.0, 3.5, 1.6, 0.6, 'Iris-setosa'],\n",
              " [5.1, 3.8, 1.9, 0.4, 'Iris-setosa'],\n",
              " [4.8, 3.0, 1.4, 0.3, 'Iris-setosa'],\n",
              " [5.1, 3.8, 1.6, 0.2, 'Iris-setosa'],\n",
              " [4.6, 3.2, 1.4, 0.2, 'Iris-setosa'],\n",
              " [5.0, 3.3, 1.4, 0.2, 'Iris-setosa'],\n",
              " [7.0, 3.2, 4.7, 1.4, 'Iris-versicolor'],\n",
              " [6.4, 3.2, 4.5, 1.5, 'Iris-versicolor'],\n",
              " [6.9, 3.1, 4.9, 1.5, 'Iris-versicolor'],\n",
              " [5.5, 2.3, 4.0, 1.3, 'Iris-versicolor'],\n",
              " [6.5, 2.8, 4.6, 1.5, 'Iris-versicolor'],\n",
              " [6.3, 3.3, 4.7, 1.6, 'Iris-versicolor'],\n",
              " [6.0, 2.2, 4.0, 1.0, 'Iris-versicolor'],\n",
              " [6.1, 2.9, 4.7, 1.4, 'Iris-versicolor'],\n",
              " [5.6, 2.9, 3.6, 1.3, 'Iris-versicolor'],\n",
              " [5.6, 3.0, 4.5, 1.5, 'Iris-versicolor'],\n",
              " [6.2, 2.2, 4.5, 1.5, 'Iris-versicolor'],\n",
              " [5.6, 2.5, 3.9, 1.1, 'Iris-versicolor'],\n",
              " [6.4, 2.9, 4.3, 1.3, 'Iris-versicolor'],\n",
              " [6.6, 3.0, 4.4, 1.4, 'Iris-versicolor'],\n",
              " [6.8, 2.8, 4.8, 1.4, 'Iris-versicolor'],\n",
              " [5.4, 3.0, 4.5, 1.5, 'Iris-versicolor'],\n",
              " [6.7, 3.1, 4.7, 1.5, 'Iris-versicolor'],\n",
              " [6.3, 2.3, 4.4, 1.3, 'Iris-versicolor'],\n",
              " [5.6, 3.0, 4.1, 1.3, 'Iris-versicolor'],\n",
              " [5.5, 2.6, 4.4, 1.2, 'Iris-versicolor'],\n",
              " [6.1, 3.0, 4.6, 1.4, 'Iris-versicolor'],\n",
              " [5.8, 2.6, 4.0, 1.2, 'Iris-versicolor'],\n",
              " [5.0, 2.3, 3.3, 1.0, 'Iris-versicolor'],\n",
              " [5.6, 2.7, 4.2, 1.3, 'Iris-versicolor'],\n",
              " [6.2, 2.9, 4.3, 1.3, 'Iris-versicolor'],\n",
              " [5.1, 2.5, 3.0, 1.1, 'Iris-versicolor'],\n",
              " [6.3, 3.3, 6.0, 2.5, 'Iris-virginica'],\n",
              " [5.8, 2.7, 5.1, 1.9, 'Iris-virginica'],\n",
              " [7.1, 3.0, 5.9, 2.1, 'Iris-virginica'],\n",
              " [6.3, 2.9, 5.6, 1.8, 'Iris-virginica'],\n",
              " [6.5, 3.0, 5.8, 2.2, 'Iris-virginica'],\n",
              " [4.9, 2.5, 4.5, 1.7, 'Iris-virginica'],\n",
              " [7.3, 2.9, 6.3, 1.8, 'Iris-virginica'],\n",
              " [7.2, 3.6, 6.1, 2.5, 'Iris-virginica'],\n",
              " [6.5, 3.2, 5.1, 2.0, 'Iris-virginica'],\n",
              " [6.8, 3.0, 5.5, 2.1, 'Iris-virginica'],\n",
              " [5.7, 2.5, 5.0, 2.0, 'Iris-virginica'],\n",
              " [5.8, 2.8, 5.1, 2.4, 'Iris-virginica'],\n",
              " [6.5, 3.0, 5.5, 1.8, 'Iris-virginica'],\n",
              " [7.7, 2.6, 6.9, 2.3, 'Iris-virginica'],\n",
              " [6.0, 2.2, 5.0, 1.5, 'Iris-virginica'],\n",
              " [5.6, 2.8, 4.9, 2.0, 'Iris-virginica'],\n",
              " [7.7, 2.8, 6.7, 2.0, 'Iris-virginica'],\n",
              " [6.3, 2.7, 4.9, 1.8, 'Iris-virginica'],\n",
              " [6.7, 3.3, 5.7, 2.1, 'Iris-virginica'],\n",
              " [7.2, 3.2, 6.0, 1.8, 'Iris-virginica'],\n",
              " [6.2, 2.8, 4.8, 1.8, 'Iris-virginica'],\n",
              " [6.1, 3.0, 4.9, 1.8, 'Iris-virginica'],\n",
              " [7.2, 3.0, 5.8, 1.6, 'Iris-virginica'],\n",
              " [7.9, 3.8, 6.4, 2.0, 'Iris-virginica'],\n",
              " [6.4, 2.8, 5.6, 2.2, 'Iris-virginica'],\n",
              " [6.1, 2.6, 5.6, 1.4, 'Iris-virginica'],\n",
              " [7.7, 3.0, 6.1, 2.3, 'Iris-virginica'],\n",
              " [6.4, 3.1, 5.5, 1.8, 'Iris-virginica'],\n",
              " [6.0, 3.0, 4.8, 1.8, 'Iris-virginica'],\n",
              " [6.7, 3.1, 5.6, 2.4, 'Iris-virginica'],\n",
              " [6.9, 3.1, 5.1, 2.3, 'Iris-virginica'],\n",
              " [6.8, 3.2, 5.9, 2.3, 'Iris-virginica'],\n",
              " [6.2, 3.4, 5.4, 2.3, 'Iris-virginica']]"
            ]
          },
          "metadata": {
            "tags": []
          },
          "execution_count": 12
        }
      ]
    },
    {
      "cell_type": "code",
      "metadata": {
        "id": "JsFn3BxICFjd"
      },
      "source": [
        "import math \n",
        "def euclideanDistance(x1, x2 , length):\n",
        "  sum = 0 \n",
        "  for i in range( length ):\n",
        "    sum += math.pow(x1[i]-x2[i],2)\n",
        "  \n",
        "  return math.sqrt(sum)"
      ],
      "execution_count": 2,
      "outputs": []
    },
    {
      "cell_type": "code",
      "metadata": {
        "id": "ozAylY_NX2b2"
      },
      "source": [
        "float(\"Iris-setosa\")"
      ],
      "execution_count": null,
      "outputs": []
    },
    {
      "cell_type": "code",
      "metadata": {
        "colab": {
          "base_uri": "https://localhost:8080/"
        },
        "id": "zY-52XWXKDT3",
        "outputId": "3d12858d-feeb-4ad1-aeeb-7d3d848b0265"
      },
      "source": [
        "data1 = [2, 2, 2, 'a']\n",
        "\n",
        "data2 = [4, 4, 4, 'b']\n",
        "\n",
        "distance = euclideanDistance(data1, data2, 3)\n",
        "\n",
        "distance"
      ],
      "execution_count": null,
      "outputs": [
        {
          "output_type": "execute_result",
          "data": {
            "text/plain": [
              "3.4641016151377544"
            ]
          },
          "metadata": {
            "tags": []
          },
          "execution_count": 19
        }
      ]
    },
    {
      "cell_type": "code",
      "metadata": {
        "id": "LOc45hprKj5N"
      },
      "source": [
        "import operator\n",
        "\n",
        "def getNeighbors(trainingSet, testInstance, k):\n",
        "  distances = []\n",
        "  length = len(testInstance)-1\n",
        "\n",
        "  for x in range(len(trainingSet)):\n",
        "    dist = euclideanDistance(testInstance, trainingSet[x], length)\n",
        "    distances.append((trainingSet[x], dist))\n",
        "\n",
        "\n",
        "  distances.sort(key=operator.itemgetter(1))\n",
        "  neighbors = []\n",
        "  for x in range(k):\n",
        "    neighbors.append(distances[x][0])\n",
        "\n",
        "  return neighbors"
      ],
      "execution_count": 3,
      "outputs": []
    },
    {
      "cell_type": "code",
      "metadata": {
        "colab": {
          "base_uri": "https://localhost:8080/"
        },
        "id": "BJnp2JnhMrZG",
        "outputId": "39f6bfce-2014-483c-b199-4cb96bf9215d"
      },
      "source": [
        "trainSet = [[2, 2, 2, 'a'], [4, 4, 4, 'b']]\n",
        "testInstance = [4, 2.1,1,2]\n",
        "k = 5\n",
        "neighbors = getNeighbors(trainingSet, testInstance, k)\n",
        "print(neighbors)"
      ],
      "execution_count": null,
      "outputs": [
        {
          "output_type": "stream",
          "text": [
            "[[4.3, 3.0, 1.1, 0.1, 'Iris-setosa'], [4.4, 3.2, 1.3, 0.2, 'Iris-setosa'], [4.8, 3.0, 1.4, 0.1, 'Iris-setosa'], [4.8, 3.0, 1.4, 0.3, 'Iris-setosa'], [4.6, 3.1, 1.5, 0.2, 'Iris-setosa']]\n"
          ],
          "name": "stdout"
        }
      ]
    },
    {
      "cell_type": "code",
      "metadata": {
        "id": "pxmoGGWHNMG1"
      },
      "source": [
        "def getResponse(neighbors):\n",
        " classVotes = {}\n",
        " for x in range(len(neighbors)):\n",
        "   response = neighbors[x][4] #complete with appropriate number\n",
        "   if response in classVotes:\n",
        "        classVotes[response] = classVotes[response]+1\n",
        "   else:\n",
        "        classVotes[response] = 1\n",
        "\n",
        " sortedVotes = sorted(classVotes.items(), key=operator.itemgetter(1), reverse=True)\n",
        " return sortedVotes[0][0]"
      ],
      "execution_count": 4,
      "outputs": []
    },
    {
      "cell_type": "code",
      "metadata": {
        "colab": {
          "base_uri": "https://localhost:8080/"
        },
        "id": "_kYxK2tCa189",
        "outputId": "2d0a165c-241a-454e-dba5-c4c229e13fad"
      },
      "source": [
        "print ( getResponse(neighbors) )"
      ],
      "execution_count": null,
      "outputs": [
        {
          "output_type": "stream",
          "text": [
            "{'Iris-setosa': 4, 'Iris-versicolor': 1}\n",
            "Iris-setosa\n"
          ],
          "name": "stdout"
        }
      ]
    },
    {
      "cell_type": "code",
      "metadata": {
        "id": "4mGcsUlZehMM"
      },
      "source": [
        "test = lambda x  , y : x == y\n"
      ],
      "execution_count": 11,
      "outputs": []
    },
    {
      "cell_type": "markdown",
      "metadata": {
        "id": "tKbPIthvf-GK"
      },
      "source": [
        "## Testing Phase"
      ]
    },
    {
      "cell_type": "code",
      "metadata": {
        "id": "9Xc4wlhpehl3"
      },
      "source": [
        "def getPredictedNeighbor( instance , data , k ):\n",
        " neighbors =  getNeighbors(data,instance,k)\n",
        " return getResponse(neighbors)"
      ],
      "execution_count": 8,
      "outputs": []
    },
    {
      "cell_type": "code",
      "metadata": {
        "id": "sTDmMvnsiUpd"
      },
      "source": [
        "def populatePredictions( trainingSet , testSet , k ):\n",
        "  populate = []\n",
        "  for testTuple in trainingSet: \n",
        "   populate.append(  getPredictedNeighbor( testTuple , testSet , k ) )\n",
        "  return populate"
      ],
      "execution_count": 9,
      "outputs": []
    },
    {
      "cell_type": "code",
      "metadata": {
        "colab": {
          "base_uri": "https://localhost:8080/"
        },
        "id": "qOgG-3L53D4f",
        "outputId": "09e22a11-5c61-4afa-f5ae-5a55d5d4c947"
      },
      "source": [
        "predictions = populatePredictions(trainingSet , testSet , 5)\n",
        "predictions"
      ],
      "execution_count": null,
      "outputs": [
        {
          "output_type": "execute_result",
          "data": {
            "text/plain": [
              "['Iris-setosa',\n",
              " 'Iris-setosa',\n",
              " 'Iris-setosa',\n",
              " 'Iris-setosa',\n",
              " 'Iris-setosa',\n",
              " 'Iris-setosa',\n",
              " 'Iris-setosa',\n",
              " 'Iris-setosa',\n",
              " 'Iris-setosa',\n",
              " 'Iris-setosa',\n",
              " 'Iris-setosa',\n",
              " 'Iris-setosa',\n",
              " 'Iris-setosa',\n",
              " 'Iris-setosa',\n",
              " 'Iris-setosa',\n",
              " 'Iris-setosa',\n",
              " 'Iris-setosa',\n",
              " 'Iris-setosa',\n",
              " 'Iris-setosa',\n",
              " 'Iris-setosa',\n",
              " 'Iris-setosa',\n",
              " 'Iris-setosa',\n",
              " 'Iris-setosa',\n",
              " 'Iris-setosa',\n",
              " 'Iris-setosa',\n",
              " 'Iris-setosa',\n",
              " 'Iris-setosa',\n",
              " 'Iris-setosa',\n",
              " 'Iris-setosa',\n",
              " 'Iris-setosa',\n",
              " 'Iris-setosa',\n",
              " 'Iris-versicolor',\n",
              " 'Iris-versicolor',\n",
              " 'Iris-versicolor',\n",
              " 'Iris-versicolor',\n",
              " 'Iris-versicolor',\n",
              " 'Iris-versicolor',\n",
              " 'Iris-versicolor',\n",
              " 'Iris-versicolor',\n",
              " 'Iris-versicolor',\n",
              " 'Iris-versicolor',\n",
              " 'Iris-versicolor',\n",
              " 'Iris-versicolor',\n",
              " 'Iris-versicolor',\n",
              " 'Iris-versicolor',\n",
              " 'Iris-versicolor',\n",
              " 'Iris-versicolor',\n",
              " 'Iris-versicolor',\n",
              " 'Iris-versicolor',\n",
              " 'Iris-versicolor',\n",
              " 'Iris-versicolor',\n",
              " 'Iris-versicolor',\n",
              " 'Iris-versicolor',\n",
              " 'Iris-versicolor',\n",
              " 'Iris-versicolor',\n",
              " 'Iris-versicolor',\n",
              " 'Iris-versicolor',\n",
              " 'Iris-virginica',\n",
              " 'Iris-virginica',\n",
              " 'Iris-virginica',\n",
              " 'Iris-virginica',\n",
              " 'Iris-virginica',\n",
              " 'Iris-versicolor',\n",
              " 'Iris-virginica',\n",
              " 'Iris-virginica',\n",
              " 'Iris-virginica',\n",
              " 'Iris-virginica',\n",
              " 'Iris-versicolor',\n",
              " 'Iris-virginica',\n",
              " 'Iris-virginica',\n",
              " 'Iris-virginica',\n",
              " 'Iris-virginica',\n",
              " 'Iris-versicolor',\n",
              " 'Iris-virginica',\n",
              " 'Iris-virginica',\n",
              " 'Iris-virginica',\n",
              " 'Iris-virginica',\n",
              " 'Iris-versicolor',\n",
              " 'Iris-versicolor',\n",
              " 'Iris-virginica',\n",
              " 'Iris-virginica',\n",
              " 'Iris-virginica',\n",
              " 'Iris-virginica',\n",
              " 'Iris-virginica',\n",
              " 'Iris-virginica',\n",
              " 'Iris-versicolor',\n",
              " 'Iris-virginica',\n",
              " 'Iris-virginica',\n",
              " 'Iris-virginica',\n",
              " 'Iris-virginica']"
            ]
          },
          "metadata": {
            "tags": []
          },
          "execution_count": 24
        }
      ]
    },
    {
      "cell_type": "code",
      "metadata": {
        "colab": {
          "base_uri": "https://localhost:8080/",
          "height": 35
        },
        "id": "L2qqcgDUglqp",
        "outputId": "8252785e-541a-4078-aa29-171af0c6bc2a"
      },
      "source": [
        "getPredictedNeighbor( [4.9, 3.0, 1.4, 0.2]  , testSet , 5)"
      ],
      "execution_count": null,
      "outputs": [
        {
          "output_type": "execute_result",
          "data": {
            "application/vnd.google.colaboratory.intrinsic+json": {
              "type": "string"
            },
            "text/plain": [
              "'Iris-setosa'"
            ]
          },
          "metadata": {
            "tags": []
          },
          "execution_count": 78
        }
      ]
    },
    {
      "cell_type": "code",
      "metadata": {
        "id": "7vTB8kXHa9j2"
      },
      "source": [
        "def getAccuracy( testSet , predictions, k ):\n",
        "  correct = 0\n",
        "  for x in range(len(predictions) ):\n",
        "    if( test( testSet[x][4] , predictions[x] )   ):\n",
        "     correct+=1\n",
        "  return  (correct/float(len(testSet)))*100\n"
      ],
      "execution_count": 27,
      "outputs": []
    },
    {
      "cell_type": "markdown",
      "metadata": {
        "id": "SJZKFqzk5kEU"
      },
      "source": [
        "Accuracy of KNN Model"
      ]
    },
    {
      "cell_type": "code",
      "metadata": {
        "colab": {
          "base_uri": "https://localhost:8080/"
        },
        "id": "mv8jG_jE5ill",
        "outputId": "2f84258d-d725-4f9e-d907-4850ade4c14a"
      },
      "source": [
        "getAccuracy(testSet , predictions , 1)"
      ],
      "execution_count": null,
      "outputs": [
        {
          "output_type": "execute_result",
          "data": {
            "text/plain": [
              "55.932203389830505"
            ]
          },
          "metadata": {
            "tags": []
          },
          "execution_count": 29
        }
      ]
    },
    {
      "cell_type": "markdown",
      "metadata": {
        "id": "sJKNDrN48t36"
      },
      "source": [
        "##Main Function"
      ]
    },
    {
      "cell_type": "code",
      "metadata": {
        "id": "owyDjjWA5sf2"
      },
      "source": [
        "def __main(splitThresh , k):\n",
        "  trainingSet = [] \n",
        "  testSet= []\n",
        "  loadDataset( 'iris.data.txt' , splitThresh , trainingSet , testSet)\n",
        "  predictions = populatePredictions(trainingSet, testSet , k)\n",
        "  print('Accuracy :' , getAccuracy(testSet , predictions , 1) , '%')\n"
      ],
      "execution_count": 34,
      "outputs": []
    },
    {
      "cell_type": "code",
      "metadata": {
        "colab": {
          "base_uri": "https://localhost:8080/"
        },
        "id": "NSS681jYA6qc",
        "outputId": "c4647af3-673c-47af-e7d0-4d63ac245d8a"
      },
      "source": [
        "__main(0.66 , 1)"
      ],
      "execution_count": 35,
      "outputs": [
        {
          "output_type": "stream",
          "text": [
            "Accuracy : 36.45833333333333 %\n"
          ],
          "name": "stdout"
        }
      ]
    },
    {
      "cell_type": "markdown",
      "metadata": {
        "id": "AoDmKIVGDa2a"
      },
      "source": [
        "## Alternative Distance Method : Manhattan \n"
      ]
    },
    {
      "cell_type": "code",
      "metadata": {
        "id": "AQ8f74YwA-ip"
      },
      "source": [
        "def manhattanDistance(x1, x2 , length):\n",
        "  sum = 0 \n",
        "  for i in range( length ):\n",
        "    sum += abs(x1[i]-x2[i])\n",
        "  \n",
        "  return math.sqrt(sum)"
      ],
      "execution_count": 38,
      "outputs": []
    },
    {
      "cell_type": "code",
      "metadata": {
        "colab": {
          "base_uri": "https://localhost:8080/"
        },
        "id": "sHyMIpKKFhKV",
        "outputId": "f651248a-4869-48d3-de79-a633c40c9b8e"
      },
      "source": [
        "data1 = [2, 2, 2, 'a']\n",
        "\n",
        "data2 = [4, 4, 4, 'b']\n",
        "\n",
        "distance = manhattanDistance(data1, data2, 3)\n",
        "\n",
        "distance"
      ],
      "execution_count": 39,
      "outputs": [
        {
          "output_type": "execute_result",
          "data": {
            "text/plain": [
              "2.449489742783178"
            ]
          },
          "metadata": {},
          "execution_count": 39
        }
      ]
    }
  ]
}