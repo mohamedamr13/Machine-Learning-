{
 "cells": [
  {
   "cell_type": "markdown",
   "id": "113d49c7",
   "metadata": {},
   "source": [
    "# Global Fishing Detection"
   ]
  },
  {
   "cell_type": "markdown",
   "id": "d84d004e",
   "metadata": {},
   "source": [
    "### With every passing year, more alarms are raised about the effects of climate change and human activity that threaten the survival of thousands of marine and land species and forces us to become more sustainable\n",
    "\n",
    "### The goal of this project is to detect and predict the effects and events of commercial shipping , in particular to detect fishing events as they occur around the oceans as an effort to analyze shipping and fishing patterns in order to protect marine life , preserve protected areas , and prevent poaching and illegal fishing that threatens marine and ecological integrity"
   ]
  },
  {
   "cell_type": "markdown",
   "id": "5c1ad757",
   "metadata": {},
   "source": [
    "### Using data from the global fishing watch , an NGO dedicated to monitor marine life and commercial shipping and shipment, our goal is to build a machine learning model that can predict fishing events of ships around the world using AIS ( Automatic Identification System ) data that bears important information about each ship, including speed , distance from shore , and location"
   ]
  },
  {
   "cell_type": "markdown",
   "id": "29cfff39",
   "metadata": {},
   "source": [
    "## https://globalfishingwatch.org/about-us/ "
   ]
  },
  {
   "cell_type": "markdown",
   "id": "493e7e7e",
   "metadata": {},
   "source": [
    "### The ultimate goal and evolution of this project would be to create a real time system that detects fishing events via satalite  and analyzes shipment patterns to render transshipment , trade , and fishing more sustainable"
   ]
  },
  {
   "cell_type": "markdown",
   "id": "706c212a",
   "metadata": {},
   "source": [
    "### We start with some definitions and the schema of our data set"
   ]
  },
  {
   "cell_type": "markdown",
   "id": "2c4fe8ff",
   "metadata": {},
   "source": [
    "#### MMSI : Maritime Mobile Service Identity ; nine digits which are sent in digital form over a radio frequency channel in order to uniquely identify ship stations, ship earth stations, coast stations, coast earth stations, and group calls\n",
    "\n",
    "#### AIS : Automatic Identification System transmits a ship’s position so that other ships are aware of its position\n",
    "\n",
    "###### mmsi: Anonymized vessel identifier\n",
    "###### timestamp: Unix timestamp\n",
    "###### distance_from_shore: Distance from shore (meters)\n",
    "###### distance_from_port: Distance from port (meters)\n",
    "###### speed: Vessel speed (knots)\n",
    "###### course: Vessel course\n",
    "###### lat: Latitude in decimal degrees\n",
    "###### lon: Longitude in decimal degrees\n",
    "###### is_fishing: Label indicating fishing activity.\n",
    "###### 0 = Not fishing\n",
    "###### >0 = Fishing. Data values between 0 and 1 indicate the average score for the position if scored by multiple people.\n",
    "###### -1 = No data\n"
   ]
  },
  {
   "cell_type": "markdown",
   "id": "99d958c0",
   "metadata": {},
   "source": [
    "##### You can find the datasets that we will be using in the link below and on the Global Fishing Watch Website\n",
    "\n",
    "https://drive.google.com/file/d/1S8E4506u03DvOk9whmCnzoGmP-5pPdfw/view?usp=sharing"
   ]
  },
  {
   "cell_type": "markdown",
   "id": "ccd32c92",
   "metadata": {},
   "source": [
    "### And now let's start coding!"
   ]
  },
  {
   "cell_type": "code",
   "execution_count": 10,
   "id": "d19562e6",
   "metadata": {},
   "outputs": [],
   "source": [
    "import pandas as pd \n",
    "import numpy as np\n",
    "import matplotlib.pyplot as plt\n",
    "import seaborn as sns \n"
   ]
  },
  {
   "cell_type": "code",
   "execution_count": 11,
   "id": "d50d8636",
   "metadata": {},
   "outputs": [],
   "source": [
    "def join( df1 , df2 , commonCol):\n",
    "  return pd.merge(df1,df2,on=commonCol,how='outer')\n",
    "\n",
    "def union( df1 , df2 ):\n",
    "  return pd.concat([df1,df2], axis =0)\n",
    "\n",
    "def minus( df1 , df2 , column ):\n",
    "  cond = df1[column].isin(df2[column])\n",
    "  df1.drop(df1[cond].index, inplace = True)\n",
    "    \n",
    "def plot_correlation_map( df ):\n",
    "    corr = df.corr()\n",
    "    s , ax = plt.subplots( figsize =( 12 , 10 ) )\n",
    "    cmap = sns.diverging_palette( 220 , 10 , as_cmap = True )\n",
    "    s = sns.heatmap(corr,  cmap = cmap, square=True, cbar_kws={ 'shrink' : .9 }, ax=ax, annot = True, annot_kws = { 'fontsize' : 12 } )\n",
    "    \n"
   ]
  },
  {
   "cell_type": "code",
   "execution_count": 12,
   "id": "e37fa9bd",
   "metadata": {},
   "outputs": [
    {
     "data": {
      "text/html": [
       "<div>\n",
       "<style scoped>\n",
       "    .dataframe tbody tr th:only-of-type {\n",
       "        vertical-align: middle;\n",
       "    }\n",
       "\n",
       "    .dataframe tbody tr th {\n",
       "        vertical-align: top;\n",
       "    }\n",
       "\n",
       "    .dataframe thead th {\n",
       "        text-align: right;\n",
       "    }\n",
       "</style>\n",
       "<table border=\"1\" class=\"dataframe\">\n",
       "  <thead>\n",
       "    <tr style=\"text-align: right;\">\n",
       "      <th></th>\n",
       "      <th>mmsi</th>\n",
       "      <th>timestamp</th>\n",
       "      <th>distance_from_shore</th>\n",
       "      <th>distance_from_port</th>\n",
       "      <th>speed</th>\n",
       "      <th>course</th>\n",
       "      <th>lat</th>\n",
       "      <th>lon</th>\n",
       "      <th>is_fishing</th>\n",
       "      <th>source</th>\n",
       "    </tr>\n",
       "  </thead>\n",
       "  <tbody>\n",
       "    <tr>\n",
       "      <th>0</th>\n",
       "      <td>7.652701e+13</td>\n",
       "      <td>1.337836e+09</td>\n",
       "      <td>0.0</td>\n",
       "      <td>3162.200195</td>\n",
       "      <td>0.0</td>\n",
       "      <td>0.000000</td>\n",
       "      <td>51.887592</td>\n",
       "      <td>4.356583</td>\n",
       "      <td>-1.0</td>\n",
       "      <td>gfw</td>\n",
       "    </tr>\n",
       "    <tr>\n",
       "      <th>1</th>\n",
       "      <td>7.652701e+13</td>\n",
       "      <td>1.338199e+09</td>\n",
       "      <td>0.0</td>\n",
       "      <td>4999.877441</td>\n",
       "      <td>0.0</td>\n",
       "      <td>0.000000</td>\n",
       "      <td>51.242130</td>\n",
       "      <td>4.403008</td>\n",
       "      <td>-1.0</td>\n",
       "      <td>gfw</td>\n",
       "    </tr>\n",
       "    <tr>\n",
       "      <th>2</th>\n",
       "      <td>7.652701e+13</td>\n",
       "      <td>1.343752e+09</td>\n",
       "      <td>0.0</td>\n",
       "      <td>66308.250000</td>\n",
       "      <td>8.6</td>\n",
       "      <td>292.200012</td>\n",
       "      <td>51.960873</td>\n",
       "      <td>5.196125</td>\n",
       "      <td>-1.0</td>\n",
       "      <td>gfw</td>\n",
       "    </tr>\n",
       "    <tr>\n",
       "      <th>3</th>\n",
       "      <td>7.652701e+13</td>\n",
       "      <td>1.350795e+09</td>\n",
       "      <td>0.0</td>\n",
       "      <td>15296.682617</td>\n",
       "      <td>0.0</td>\n",
       "      <td>0.000000</td>\n",
       "      <td>51.231094</td>\n",
       "      <td>4.526647</td>\n",
       "      <td>-1.0</td>\n",
       "      <td>gfw</td>\n",
       "    </tr>\n",
       "    <tr>\n",
       "      <th>4</th>\n",
       "      <td>7.652701e+13</td>\n",
       "      <td>1.351808e+09</td>\n",
       "      <td>0.0</td>\n",
       "      <td>15296.682617</td>\n",
       "      <td>0.0</td>\n",
       "      <td>0.000000</td>\n",
       "      <td>51.231098</td>\n",
       "      <td>4.526487</td>\n",
       "      <td>-1.0</td>\n",
       "      <td>gfw</td>\n",
       "    </tr>\n",
       "  </tbody>\n",
       "</table>\n",
       "</div>"
      ],
      "text/plain": [
       "           mmsi     timestamp  distance_from_shore  distance_from_port  speed  \\\n",
       "0  7.652701e+13  1.337836e+09                  0.0         3162.200195    0.0   \n",
       "1  7.652701e+13  1.338199e+09                  0.0         4999.877441    0.0   \n",
       "2  7.652701e+13  1.343752e+09                  0.0        66308.250000    8.6   \n",
       "3  7.652701e+13  1.350795e+09                  0.0        15296.682617    0.0   \n",
       "4  7.652701e+13  1.351808e+09                  0.0        15296.682617    0.0   \n",
       "\n",
       "       course        lat       lon  is_fishing source  \n",
       "0    0.000000  51.887592  4.356583        -1.0    gfw  \n",
       "1    0.000000  51.242130  4.403008        -1.0    gfw  \n",
       "2  292.200012  51.960873  5.196125        -1.0    gfw  \n",
       "3    0.000000  51.231094  4.526647        -1.0    gfw  \n",
       "4    0.000000  51.231098  4.526487        -1.0    gfw  "
      ]
     },
     "execution_count": 12,
     "metadata": {},
     "output_type": "execute_result"
    }
   ],
   "source": [
    "df  = pd.read_csv('trollers.csv')\n",
    "df.head()\n"
   ]
  },
  {
   "cell_type": "code",
   "execution_count": 14,
   "id": "d2995be5",
   "metadata": {},
   "outputs": [
    {
     "name": "stdout",
     "output_type": "stream",
     "text": [
      "<class 'pandas.core.frame.DataFrame'>\n",
      "Int64Index: 6697793 entries, 0 to 1545322\n",
      "Data columns (total 10 columns):\n",
      " #   Column               Dtype  \n",
      "---  ------               -----  \n",
      " 0   mmsi                 float64\n",
      " 1   timestamp            float64\n",
      " 2   distance_from_shore  float64\n",
      " 3   distance_from_port   float64\n",
      " 4   speed                float64\n",
      " 5   course               float64\n",
      " 6   lat                  float64\n",
      " 7   lon                  float64\n",
      " 8   is_fishing           float64\n",
      " 9   source               object \n",
      "dtypes: float64(9), object(1)\n",
      "memory usage: 562.1+ MB\n"
     ]
    }
   ],
   "source": [
    "df2 = pd.read_csv('pole_and_line.csv')\n",
    "df3 = pd.read_csv('fixed_gear.csv')\n",
    "df4 = pd.read_csv('purse_seines.csv')\n",
    "df5 = pd.read_csv('trawlers.csv')\n",
    "\n",
    "\n",
    "df = pd.concat([df,df2 , df3 , df4], axis =0)\n",
    "df.info()"
   ]
  },
  {
   "cell_type": "code",
   "execution_count": 17,
   "id": "e6ec10db",
   "metadata": {},
   "outputs": [
    {
     "data": {
      "text/plain": [
       "count    145759.000000\n",
       "mean          0.228626\n",
       "std           0.412687\n",
       "min           0.000000\n",
       "25%           0.000000\n",
       "50%           0.000000\n",
       "75%           0.000000\n",
       "max           1.000000\n",
       "Name: is_fishing, dtype: float64"
      ]
     },
     "execution_count": 17,
     "metadata": {},
     "output_type": "execute_result"
    }
   ],
   "source": [
    "df_reduced =  df[ df['is_fishing'] != -1 ]\n",
    "df_reduced['is_fishing'].describe()\n"
   ]
  },
  {
   "cell_type": "code",
   "execution_count": 18,
   "id": "ee3d6ab2",
   "metadata": {},
   "outputs": [
    {
     "data": {
      "text/html": [
       "<div>\n",
       "<style scoped>\n",
       "    .dataframe tbody tr th:only-of-type {\n",
       "        vertical-align: middle;\n",
       "    }\n",
       "\n",
       "    .dataframe tbody tr th {\n",
       "        vertical-align: top;\n",
       "    }\n",
       "\n",
       "    .dataframe thead th {\n",
       "        text-align: right;\n",
       "    }\n",
       "</style>\n",
       "<table border=\"1\" class=\"dataframe\">\n",
       "  <thead>\n",
       "    <tr style=\"text-align: right;\">\n",
       "      <th></th>\n",
       "      <th>mmsi</th>\n",
       "      <th>timestamp</th>\n",
       "      <th>distance_from_shore</th>\n",
       "      <th>distance_from_port</th>\n",
       "      <th>speed</th>\n",
       "      <th>course</th>\n",
       "      <th>lat</th>\n",
       "      <th>lon</th>\n",
       "      <th>is_fishing</th>\n",
       "      <th>source</th>\n",
       "    </tr>\n",
       "  </thead>\n",
       "  <tbody>\n",
       "    <tr>\n",
       "      <th>3610</th>\n",
       "      <td>7.652701e+13</td>\n",
       "      <td>1.433159e+09</td>\n",
       "      <td>8944.052734</td>\n",
       "      <td>19999.509766</td>\n",
       "      <td>6.9</td>\n",
       "      <td>244.399994</td>\n",
       "      <td>38.306725</td>\n",
       "      <td>15.394240</td>\n",
       "      <td>1</td>\n",
       "      <td>gfw</td>\n",
       "    </tr>\n",
       "    <tr>\n",
       "      <th>3611</th>\n",
       "      <td>7.652701e+13</td>\n",
       "      <td>1.433160e+09</td>\n",
       "      <td>12529.657227</td>\n",
       "      <td>20517.781250</td>\n",
       "      <td>6.8</td>\n",
       "      <td>12.100000</td>\n",
       "      <td>38.324276</td>\n",
       "      <td>15.378206</td>\n",
       "      <td>1</td>\n",
       "      <td>gfw</td>\n",
       "    </tr>\n",
       "    <tr>\n",
       "      <th>3612</th>\n",
       "      <td>7.652701e+13</td>\n",
       "      <td>1.433160e+09</td>\n",
       "      <td>11661.617188</td>\n",
       "      <td>23344.662109</td>\n",
       "      <td>7.1</td>\n",
       "      <td>59.799999</td>\n",
       "      <td>38.334198</td>\n",
       "      <td>15.395231</td>\n",
       "      <td>1</td>\n",
       "      <td>gfw</td>\n",
       "    </tr>\n",
       "    <tr>\n",
       "      <th>3615</th>\n",
       "      <td>7.652701e+13</td>\n",
       "      <td>1.433165e+09</td>\n",
       "      <td>3605.462891</td>\n",
       "      <td>18357.109375</td>\n",
       "      <td>6.9</td>\n",
       "      <td>59.599998</td>\n",
       "      <td>38.312866</td>\n",
       "      <td>15.480063</td>\n",
       "      <td>1</td>\n",
       "      <td>gfw</td>\n",
       "    </tr>\n",
       "    <tr>\n",
       "      <th>3616</th>\n",
       "      <td>7.652701e+13</td>\n",
       "      <td>1.433165e+09</td>\n",
       "      <td>3605.462891</td>\n",
       "      <td>18787.832031</td>\n",
       "      <td>6.7</td>\n",
       "      <td>52.099998</td>\n",
       "      <td>38.319057</td>\n",
       "      <td>15.490622</td>\n",
       "      <td>1</td>\n",
       "      <td>gfw</td>\n",
       "    </tr>\n",
       "    <tr>\n",
       "      <th>...</th>\n",
       "      <td>...</td>\n",
       "      <td>...</td>\n",
       "      <td>...</td>\n",
       "      <td>...</td>\n",
       "      <td>...</td>\n",
       "      <td>...</td>\n",
       "      <td>...</td>\n",
       "      <td>...</td>\n",
       "      <td>...</td>\n",
       "      <td>...</td>\n",
       "    </tr>\n",
       "    <tr>\n",
       "      <th>1276006</th>\n",
       "      <td>2.679667e+14</td>\n",
       "      <td>1.449006e+09</td>\n",
       "      <td>6999.828125</td>\n",
       "      <td>30264.748047</td>\n",
       "      <td>9.2</td>\n",
       "      <td>184.199997</td>\n",
       "      <td>37.914879</td>\n",
       "      <td>24.108997</td>\n",
       "      <td>1</td>\n",
       "      <td>gfw</td>\n",
       "    </tr>\n",
       "    <tr>\n",
       "      <th>1276068</th>\n",
       "      <td>2.679667e+14</td>\n",
       "      <td>1.449097e+09</td>\n",
       "      <td>2236.013184</td>\n",
       "      <td>15296.682617</td>\n",
       "      <td>8.8</td>\n",
       "      <td>182.699997</td>\n",
       "      <td>37.805088</td>\n",
       "      <td>24.097570</td>\n",
       "      <td>1</td>\n",
       "      <td>gfw</td>\n",
       "    </tr>\n",
       "    <tr>\n",
       "      <th>1276069</th>\n",
       "      <td>2.679667e+14</td>\n",
       "      <td>1.449097e+09</td>\n",
       "      <td>2236.013184</td>\n",
       "      <td>15296.682617</td>\n",
       "      <td>9.3</td>\n",
       "      <td>179.000000</td>\n",
       "      <td>37.802132</td>\n",
       "      <td>24.097578</td>\n",
       "      <td>1</td>\n",
       "      <td>gfw</td>\n",
       "    </tr>\n",
       "    <tr>\n",
       "      <th>1276070</th>\n",
       "      <td>2.679667e+14</td>\n",
       "      <td>1.449098e+09</td>\n",
       "      <td>1414.178833</td>\n",
       "      <td>9486.599609</td>\n",
       "      <td>9.1</td>\n",
       "      <td>190.100006</td>\n",
       "      <td>37.762844</td>\n",
       "      <td>24.092457</td>\n",
       "      <td>1</td>\n",
       "      <td>gfw</td>\n",
       "    </tr>\n",
       "    <tr>\n",
       "      <th>1276071</th>\n",
       "      <td>2.679667e+14</td>\n",
       "      <td>1.449099e+09</td>\n",
       "      <td>999.975464</td>\n",
       "      <td>6324.400391</td>\n",
       "      <td>9.4</td>\n",
       "      <td>191.500000</td>\n",
       "      <td>37.745392</td>\n",
       "      <td>24.087881</td>\n",
       "      <td>1</td>\n",
       "      <td>gfw</td>\n",
       "    </tr>\n",
       "  </tbody>\n",
       "</table>\n",
       "<p>4165 rows × 10 columns</p>\n",
       "</div>"
      ],
      "text/plain": [
       "                 mmsi     timestamp  distance_from_shore  distance_from_port  \\\n",
       "3610     7.652701e+13  1.433159e+09          8944.052734        19999.509766   \n",
       "3611     7.652701e+13  1.433160e+09         12529.657227        20517.781250   \n",
       "3612     7.652701e+13  1.433160e+09         11661.617188        23344.662109   \n",
       "3615     7.652701e+13  1.433165e+09          3605.462891        18357.109375   \n",
       "3616     7.652701e+13  1.433165e+09          3605.462891        18787.832031   \n",
       "...               ...           ...                  ...                 ...   \n",
       "1276006  2.679667e+14  1.449006e+09          6999.828125        30264.748047   \n",
       "1276068  2.679667e+14  1.449097e+09          2236.013184        15296.682617   \n",
       "1276069  2.679667e+14  1.449097e+09          2236.013184        15296.682617   \n",
       "1276070  2.679667e+14  1.449098e+09          1414.178833         9486.599609   \n",
       "1276071  2.679667e+14  1.449099e+09           999.975464         6324.400391   \n",
       "\n",
       "         speed      course        lat        lon  is_fishing source  \n",
       "3610       6.9  244.399994  38.306725  15.394240           1    gfw  \n",
       "3611       6.8   12.100000  38.324276  15.378206           1    gfw  \n",
       "3612       7.1   59.799999  38.334198  15.395231           1    gfw  \n",
       "3615       6.9   59.599998  38.312866  15.480063           1    gfw  \n",
       "3616       6.7   52.099998  38.319057  15.490622           1    gfw  \n",
       "...        ...         ...        ...        ...         ...    ...  \n",
       "1276006    9.2  184.199997  37.914879  24.108997           1    gfw  \n",
       "1276068    8.8  182.699997  37.805088  24.097570           1    gfw  \n",
       "1276069    9.3  179.000000  37.802132  24.097578           1    gfw  \n",
       "1276070    9.1  190.100006  37.762844  24.092457           1    gfw  \n",
       "1276071    9.4  191.500000  37.745392  24.087881           1    gfw  \n",
       "\n",
       "[4165 rows x 10 columns]"
      ]
     },
     "execution_count": 18,
     "metadata": {},
     "output_type": "execute_result"
    }
   ],
   "source": [
    "df_undef =  df_reduced [ ( df_reduced['is_fishing']<1 ) & ( df_reduced['is_fishing']>0 ) ] \n",
    "# df_undef['is_fishing'] = 1\n",
    "df_undef = df_undef.assign(is_fishing = 1 )\n",
    "df_undef"
   ]
  },
  {
   "cell_type": "code",
   "execution_count": 19,
   "id": "0f7a8b8c",
   "metadata": {},
   "outputs": [
    {
     "data": {
      "text/plain": [
       "count    4165.0\n",
       "mean        1.0\n",
       "std         0.0\n",
       "min         1.0\n",
       "25%         1.0\n",
       "50%         1.0\n",
       "75%         1.0\n",
       "max         1.0\n",
       "Name: is_fishing, dtype: float64"
      ]
     },
     "execution_count": 19,
     "metadata": {},
     "output_type": "execute_result"
    }
   ],
   "source": [
    "df_undef['is_fishing'].describe()"
   ]
  },
  {
   "cell_type": "markdown",
   "id": "95f447fd",
   "metadata": {},
   "source": [
    "### Replace any is_shipping value between 1 and 0 with 1 "
   ]
  },
  {
   "cell_type": "code",
   "execution_count": 21,
   "id": "8fce1476",
   "metadata": {},
   "outputs": [],
   "source": [
    "minus( df_reduced , df_undef , 'mmsi' )\n",
    "df_reduced = union(df_reduced , df_undef)"
   ]
  },
  {
   "cell_type": "code",
   "execution_count": 22,
   "id": "1463ddde",
   "metadata": {},
   "outputs": [
    {
     "data": {
      "text/plain": [
       "<AxesSubplot:xlabel='is_fishing', ylabel='Count'>"
      ]
     },
     "execution_count": 22,
     "metadata": {},
     "output_type": "execute_result"
    },
    {
     "data": {
      "image/png": "[encoded data removed]",
      "text/plain": [
       "<Figure size 432x288 with 1 Axes>"
      ]
     },
     "metadata": {
      "needs_background": "light"
     },
     "output_type": "display_data"
    }
   ],
   "source": [
    "sns.histplot( x = 'is_fishing' , data = df_reduced )"
   ]
  },
  {
   "cell_type": "markdown",
   "id": "97bf48d8",
   "metadata": {},
   "source": [
    "### Checking for any null values\n"
   ]
  },
  {
   "cell_type": "code",
   "execution_count": 23,
   "id": "873885b7",
   "metadata": {},
   "outputs": [
    {
     "data": {
      "text/plain": [
       "0"
      ]
     },
     "execution_count": 23,
     "metadata": {},
     "output_type": "execute_result"
    }
   ],
   "source": [
    "df_reduced.isnull().sum().sum()"
   ]
  },
  {
   "cell_type": "markdown",
   "id": "e9d0f581",
   "metadata": {},
   "source": [
    "### Correlation Map between variables to deduce corelations"
   ]
  },
  {
   "cell_type": "code",
   "execution_count": 24,
   "id": "6244a7d1",
   "metadata": {},
   "outputs": [
    {
     "data": {
      "image/png": "[encoded data removed]",
      "text/plain": [
       "<Figure size 864x720 with 2 Axes>"
      ]
     },
     "metadata": {
      "needs_background": "light"
     },
     "output_type": "display_data"
    }
   ],
   "source": [
    "plot_correlation_map(df_reduced)"
   ]
  },
  {
   "cell_type": "markdown",
   "id": "a7f3074a",
   "metadata": {},
   "source": [
    "## Corelation Map Analysis \n",
    "\n",
    "#### It is apparent that the features with greatest influence on whether a ship is a fishing at a time instant are the latitude ( the location in general ) , the time stamp , the distance from port and from shore. The MMSI will be avoided from the analysis to avoid overfitting of data \n",
    "\n",
    "#### These features will be more deeply investigated "
   ]
  },
  {
   "cell_type": "markdown",
   "id": "e1263422",
   "metadata": {},
   "source": [
    "Latitude and Longtitude as a combined column"
   ]
  },
  {
   "cell_type": "code",
   "execution_count": 54,
   "id": "5e2e11ce",
   "metadata": {},
   "outputs": [
    {
     "name": "stdout",
     "output_type": "stream",
     "text": [
      "<class 'pandas.core.frame.DataFrame'>\n",
      "Int64Index: 22184 entries, 59619 to 1276071\n",
      "Data columns (total 11 columns):\n",
      " #   Column               Non-Null Count  Dtype  \n",
      "---  ------               --------------  -----  \n",
      " 0   mmsi                 22184 non-null  float64\n",
      " 1   timestamp            22184 non-null  float64\n",
      " 2   distance_from_shore  22184 non-null  float64\n",
      " 3   distance_from_port   22184 non-null  float64\n",
      " 4   speed                22184 non-null  float64\n",
      " 5   course               22184 non-null  float64\n",
      " 6   lat                  22184 non-null  float64\n",
      " 7   lon                  22184 non-null  float64\n",
      " 8   is_fishing           22184 non-null  float64\n",
      " 9   source               22184 non-null  object \n",
      " 10  location             22184 non-null  object \n",
      "dtypes: float64(9), object(2)\n",
      "memory usage: 2.0+ MB\n"
     ]
    }
   ],
   "source": [
    "df_reduced['location'] = list(zip(df_reduced.lat, df_reduced.lon))\n",
    "df_reduced.info()"
   ]
  },
  {
   "cell_type": "markdown",
   "id": "60e4efd4",
   "metadata": {},
   "source": [
    "### Data covers AIS tracking information of 72 unique vessels "
   ]
  },
  {
   "cell_type": "code",
   "execution_count": 134,
   "id": "60b0463e",
   "metadata": {},
   "outputs": [
    {
     "data": {
      "text/plain": [
       "72"
      ]
     },
     "execution_count": 134,
     "metadata": {},
     "output_type": "execute_result"
    }
   ],
   "source": [
    "len(df_reduced['mmsi'].unique())"
   ]
  },
  {
   "cell_type": "markdown",
   "id": "18ac4736",
   "metadata": {},
   "source": [
    "### Investigating the corelation between the most relevant features and is_fishing "
   ]
  },
  {
   "cell_type": "code",
   "execution_count": 27,
   "id": "779926d2",
   "metadata": {},
   "outputs": [
    {
     "data": {
      "image/png": "[encoded data removed]",
      "text/plain": [
       "<Figure size 216x432 with 2 Axes>"
      ]
     },
     "metadata": {
      "needs_background": "light"
     },
     "output_type": "display_data"
    }
   ],
   "source": [
    "grid = sns.FacetGrid(df_reduced, row='is_fishing')\n",
    "grid.map(plt.hist, 'distance_from_port' , bins = 10)\n",
    "plt.show()"
   ]
  },
  {
   "cell_type": "code",
   "execution_count": 28,
   "id": "e56db8e0",
   "metadata": {},
   "outputs": [
    {
     "data": {
      "image/png": "[encoded data removed]",
      "text/plain": [
       "<Figure size 216x432 with 2 Axes>"
      ]
     },
     "metadata": {
      "needs_background": "light"
     },
     "output_type": "display_data"
    }
   ],
   "source": [
    "grid = sns.FacetGrid(df_reduced, row='is_fishing')\n",
    "grid.map(plt.hist, 'distance_from_shore' , bins = 10)\n",
    "plt.show()"
   ]
  },
  {
   "cell_type": "code",
   "execution_count": 30,
   "id": "796d5d40",
   "metadata": {},
   "outputs": [
    {
     "data": {
      "image/png": "[encoded data removed]",
      "text/plain": [
       "<Figure size 216x432 with 2 Axes>"
      ]
     },
     "metadata": {
      "needs_background": "light"
     },
     "output_type": "display_data"
    }
   ],
   "source": [
    "grid = sns.FacetGrid(df_reduced, row='is_fishing')\n",
    "grid.map(plt.hist, 'lat' , bins = 10)\n",
    "plt.show()"
   ]
  },
  {
   "cell_type": "code",
   "execution_count": 71,
   "id": "9a18673d",
   "metadata": {},
   "outputs": [
    {
     "data": {
      "image/png": "[encoded data removed]",
      "text/plain": [
       "<Figure size 216x432 with 2 Axes>"
      ]
     },
     "metadata": {},
     "output_type": "display_data"
    }
   ],
   "source": [
    "grid = sns.FacetGrid(df_reduced, row='is_fishing')\n",
    "grid.map(plt.hist, 'timestamp' , bins = 10 )\n",
    "plt.show()"
   ]
  },
  {
   "cell_type": "markdown",
   "id": "ecaa4c69",
   "metadata": {},
   "source": [
    "#### Converting Unix Time stamp to DateTime"
   ]
  },
  {
   "cell_type": "code",
   "execution_count": 31,
   "id": "ef54582e",
   "metadata": {
    "scrolled": true
   },
   "outputs": [
    {
     "data": {
      "text/plain": [
       "59619      1.432145e+09\n",
       "59620      1.432146e+09\n",
       "59621      1.432147e+09\n",
       "59622      1.432148e+09\n",
       "59623      1.432149e+09\n",
       "               ...     \n",
       "1276006    1.449006e+09\n",
       "1276068    1.449097e+09\n",
       "1276069    1.449097e+09\n",
       "1276070    1.449098e+09\n",
       "1276071    1.449099e+09\n",
       "Name: timestamp, Length: 44235, dtype: float64"
      ]
     },
     "execution_count": 31,
     "metadata": {},
     "output_type": "execute_result"
    }
   ],
   "source": [
    "df_reduced['timestamp']"
   ]
  },
  {
   "cell_type": "code",
   "execution_count": 34,
   "id": "0adee9f9",
   "metadata": {},
   "outputs": [],
   "source": [
    "df_reduced['date'] = pd.to_datetime(df_reduced['timestamp'], unit='s')\n"
   ]
  },
  {
   "cell_type": "markdown",
   "id": "21ec4439",
   "metadata": {},
   "source": [
    "### Data covers years [ 2013 - 2015 ] "
   ]
  },
  {
   "cell_type": "code",
   "execution_count": 81,
   "id": "b92e417f",
   "metadata": {},
   "outputs": [
    {
     "data": {
      "text/plain": [
       "<AxesSubplot:xlabel='year', ylabel='Count'>"
      ]
     },
     "execution_count": 81,
     "metadata": {},
     "output_type": "execute_result"
    },
    {
     "data": {
      "image/png": "[encoded data removed]",
      "text/plain": [
       "<Figure size 7200x619.2 with 1 Axes>"
      ]
     },
     "metadata": {},
     "output_type": "display_data"
    }
   ],
   "source": [
    "df_reduced['year'] = pd.DatetimeIndex(df_reduced['date']).year\n",
    "sns.histplot( x = 'year' , data = df_reduced)"
   ]
  },
  {
   "cell_type": "code",
   "execution_count": 91,
   "id": "d78f5cc6",
   "metadata": {},
   "outputs": [],
   "source": [
    "df_reduced['weekday'] = pd.DatetimeIndex(df_reduced['date']).weekday\n",
    "df_reduced['day'] = pd.DatetimeIndex(df_reduced['date']).day\n",
    "df_reduced['month'] = pd.DatetimeIndex(df_reduced['date']).month\n",
    "df_reduced['hour'] = pd.DatetimeIndex(df_reduced['date']).hour\n"
   ]
  },
  {
   "cell_type": "markdown",
   "id": "0c90898c",
   "metadata": {},
   "source": [
    "### Analysis of fishing activity during weekdays"
   ]
  },
  {
   "cell_type": "code",
   "execution_count": 86,
   "id": "a089f929",
   "metadata": {},
   "outputs": [
    {
     "data": {
      "image/png": "[encoded data removed]",
      "text/plain": [
       "<Figure size 216x432 with 2 Axes>"
      ]
     },
     "metadata": {},
     "output_type": "display_data"
    }
   ],
   "source": [
    "grid = sns.FacetGrid(df_reduced, row='is_fishing')\n",
    "grid.map(plt.hist, 'weekday')\n",
    "plt.show()"
   ]
  },
  {
   "cell_type": "markdown",
   "id": "08b5106c",
   "metadata": {},
   "source": [
    "### Analysis of fishing activity during month days"
   ]
  },
  {
   "cell_type": "code",
   "execution_count": 87,
   "id": "b816aaab",
   "metadata": {},
   "outputs": [
    {
     "data": {
      "image/png": "[encoded data removed]",
      "text/plain": [
       "<Figure size 216x432 with 2 Axes>"
      ]
     },
     "metadata": {},
     "output_type": "display_data"
    }
   ],
   "source": [
    "grid = sns.FacetGrid(df_reduced, row='is_fishing')\n",
    "grid.map(plt.hist, 'day')\n",
    "plt.show()"
   ]
  },
  {
   "cell_type": "markdown",
   "id": "15a15476",
   "metadata": {},
   "source": [
    "### Analysis of fishing activity during months"
   ]
  },
  {
   "cell_type": "code",
   "execution_count": 89,
   "id": "26f46d3a",
   "metadata": {},
   "outputs": [
    {
     "data": {
      "image/png": "[encoded data removed]",
      "text/plain": [
       "<Figure size 216x432 with 2 Axes>"
      ]
     },
     "metadata": {},
     "output_type": "display_data"
    }
   ],
   "source": [
    "grid = sns.FacetGrid(df_reduced, row='is_fishing')\n",
    "grid.map(plt.hist, 'month')\n",
    "plt.show()"
   ]
  },
  {
   "cell_type": "markdown",
   "id": "527a67be",
   "metadata": {},
   "source": [
    "### Analysis of fishing activity during years "
   ]
  },
  {
   "cell_type": "code",
   "execution_count": 90,
   "id": "bee050fb",
   "metadata": {},
   "outputs": [
    {
     "data": {
      "image/png": "[encoded data removed]",
      "text/plain": [
       "<Figure size 216x432 with 2 Axes>"
      ]
     },
     "metadata": {},
     "output_type": "display_data"
    }
   ],
   "source": [
    "grid = sns.FacetGrid(df_reduced, row='is_fishing')\n",
    "grid.map(plt.hist, 'year')\n",
    "plt.show()"
   ]
  },
  {
   "cell_type": "markdown",
   "id": "6c7689e1",
   "metadata": {},
   "source": [
    "### Analysis of fishing activity during hours of the day"
   ]
  },
  {
   "cell_type": "code",
   "execution_count": 92,
   "id": "9a5132ad",
   "metadata": {},
   "outputs": [
    {
     "data": {
      "image/png": "[encoded data removed]",
      "text/plain": [
       "<Figure size 216x432 with 2 Axes>"
      ]
     },
     "metadata": {},
     "output_type": "display_data"
    }
   ],
   "source": [
    "grid = sns.FacetGrid(df_reduced, row='is_fishing')\n",
    "grid.map(plt.hist, 'hour')\n",
    "plt.show()"
   ]
  },
  {
   "cell_type": "markdown",
   "id": "84a2f80d",
   "metadata": {},
   "source": [
    "### Data Analysis\n",
    "#### Atfer visualizing the data , we can see that we have two types of features that affect our target:\n",
    "   ##### Spatial : distance from shore and port and latitude\n",
    "   ##### Temporal : the timestamp \n",
    "#### And we can deduce from the visualization that the date , day , hour ,  month , and year ( extracted from the time stamp ) affect our target signaficantly more than the other features. However using the year may result in overfitting , as our range of years is small and most of the data points belong to either 2015 or 2013.\n",
    "\n",
    "#### So the recommended selected features for training our machine learning model will be :                                                                        1- distance_from_shore       2- distance_from_port    3- latitude     4- date  5- day  6- hour  7- month \n",
    "\n",
    "#### We can also choose to select latitude , since the existence of longtitude implies the presence of location which implies that the lattitude must affect our data ; in addition to the fact that neglecting lattitudes and relying solely on longtitudes may result in overfitting\n",
    "\n",
    "#### We can also choose to select speed , since it is an important behavorial aspect , even if it has a week corelation with our target \n",
    "\n",
    "#### So we add   8- longtitude and 9- speed to our set of features and we move on to select our machine learning model\n"
   ]
  },
  {
   "cell_type": "markdown",
   "id": "9ae87002",
   "metadata": {},
   "source": [
    "### Feature Selection \n",
    "1- distance_from_shore \n",
    "2- distance_from_port \n",
    "3- latitude \n",
    "4- date \n",
    "5- day \n",
    "6- hour \n",
    "7- month \n",
    "8- longtitude\n",
    "9- speed"
   ]
  },
  {
   "cell_type": "markdown",
   "id": "1c3f430d",
   "metadata": {},
   "source": [
    "## Model Selection"
   ]
  },
  {
   "cell_type": "markdown",
   "id": "370e1ae9",
   "metadata": {},
   "source": [
    "#### Since our target is categorical , we are inclined to opt for logistic regression and random forests. Using random forests will limit the risk of overfitting , while using logistic regression will cut execution time and resource usage , while still giving an approximation of our target"
   ]
  },
  {
   "cell_type": "markdown",
   "id": "48030c56",
   "metadata": {},
   "source": [
    "### Logistic Regression"
   ]
  },
  {
   "cell_type": "code",
   "execution_count": 97,
   "id": "2206822e",
   "metadata": {},
   "outputs": [],
   "source": [
    "from sklearn import datasets\n",
    "from sklearn.linear_model import LogisticRegression\n",
    "from sklearn import metrics\n",
    "from sklearn.model_selection import KFold\n",
    "from sklearn.model_selection import cross_val_score\n"
   ]
  },
  {
   "cell_type": "code",
   "execution_count": 109,
   "id": "8019de73",
   "metadata": {},
   "outputs": [],
   "source": [
    "model = LogisticRegression( max_iter=1000)\n",
    "df_reduced['weekday'] = df_reduced['weekday'].astype(int)\n",
    "df_reduced['day'] = df_reduced['day'].astype(int)\n",
    "df_reduced['hour'] = df_reduced['hour'].astype(int)\n",
    "df_reduced['month'] = df_reduced['month'].astype(int)\n",
    "\n",
    "x = df_reduced[ ['distance_from_shore' , 'distance_from_port' , 'lat' , 'weekday' , 'day' , 'hour' , 'month' , 'lon' , 'speed'  ] ]\n",
    "scores = cross_val_score( model , x , df_reduced['is_fishing'] , cv = 5 )\n",
    "\n"
   ]
  },
  {
   "cell_type": "code",
   "execution_count": 119,
   "id": "65e9ef01",
   "metadata": {},
   "outputs": [
    {
     "name": "stdout",
     "output_type": "stream",
     "text": [
      "Accuracy of k folds [0.60472477 0.8128179  0.64146038 0.78795072 0.81959986]\n",
      "Average Score 0.7333107268000452\n"
     ]
    }
   ],
   "source": [
    "print ( 'Accuracy of k folds' ,    scores ) \n",
    "print( 'Average Score' , sum(scores)/5 )"
   ]
  },
  {
   "cell_type": "markdown",
   "id": "f840a78e",
   "metadata": {},
   "source": [
    "##### Testing using confusion matrix\n"
   ]
  },
  {
   "cell_type": "code",
   "execution_count": 112,
   "id": "74e0b134",
   "metadata": {},
   "outputs": [],
   "source": [
    "from sklearn.model_selection import cross_val_predict\n",
    "from sklearn.metrics import confusion_matrix\n",
    "y_pred = cross_val_predict( model , x , df_reduced['is_fishing'] , cv = 5 )\n",
    "conf_mat = confusion_matrix(df_reduced['is_fishing'], y_pred)"
   ]
  },
  {
   "cell_type": "code",
   "execution_count": 118,
   "id": "02bd4cb5",
   "metadata": {},
   "outputs": [
    {
     "data": {
      "text/plain": [
       "<AxesSubplot:>"
      ]
     },
     "execution_count": 118,
     "metadata": {},
     "output_type": "execute_result"
    },
    {
     "data": {
      "image/png": "[encoded data removed]",
      "text/plain": [
       "<Figure size 1080x720 with 2 Axes>"
      ]
     },
     "metadata": {},
     "output_type": "display_data"
    }
   ],
   "source": [
    "\n",
    "plt.subplots(figsize=(15,10))\n",
    "\n",
    "sns.heatmap(conf_mat, annot=True , linewidths=4)\n"
   ]
  },
  {
   "cell_type": "markdown",
   "id": "207e989b",
   "metadata": {},
   "source": [
    "##### Testing using more folds"
   ]
  },
  {
   "cell_type": "code",
   "execution_count": 121,
   "id": "0115f67f",
   "metadata": {},
   "outputs": [
    {
     "name": "stdout",
     "output_type": "stream",
     "text": [
      "Accuracy of k folds [0.52373418 0.73530741 0.80673599 0.82504521 0.79950271 0.44517296\n",
      " 0.78250057 0.82229256 0.83789283 0.82251865]\n",
      "Average Score 0.7400703069071379\n"
     ]
    },
    {
     "data": {
      "text/plain": [
       "<AxesSubplot:>"
      ]
     },
     "execution_count": 121,
     "metadata": {},
     "output_type": "execute_result"
    },
    {
     "data": {
      "image/png": "[encoded data removed]",
      "text/plain": [
       "<Figure size 1080x720 with 2 Axes>"
      ]
     },
     "metadata": {},
     "output_type": "display_data"
    }
   ],
   "source": [
    "scores = cross_val_score( model , x , df_reduced['is_fishing'] , cv = 10 )\n",
    "y_pred = cross_val_predict( model , x , df_reduced['is_fishing'] , cv = 10 )\n",
    "conf_mat = confusion_matrix(df_reduced['is_fishing'], y_pred)\n",
    "print ( 'Accuracy of k folds' , scores ) \n",
    "print( 'Average Score' , sum(scores)/10 )\n",
    "\n",
    "plt.subplots(figsize=(15,10))\n",
    "\n",
    "sns.heatmap(conf_mat, annot=True , linewidths=4)\n"
   ]
  },
  {
   "cell_type": "code",
   "execution_count": 123,
   "id": "b375e11c",
   "metadata": {},
   "outputs": [
    {
     "data": {
      "text/plain": [
       "44235"
      ]
     },
     "execution_count": 123,
     "metadata": {},
     "output_type": "execute_result"
    }
   ],
   "source": [
    "dataSize = len(df_reduced)\n",
    "dataSize"
   ]
  },
  {
   "cell_type": "code",
   "execution_count": 125,
   "id": "a97974a1",
   "metadata": {},
   "outputs": [
    {
     "name": "stdout",
     "output_type": "stream",
     "text": [
      "False Negative Ratio 0.169548999660902\n",
      "False Positive Ratio 0.09042613315248106\n"
     ]
    }
   ],
   "source": [
    "print('False Negative Ratio' , 7500/dataSize)\n",
    "print('False Positive Ratio' , 4000/dataSize)"
   ]
  },
  {
   "cell_type": "markdown",
   "id": "c20160ee",
   "metadata": {},
   "source": [
    "## Logistic Regression Analaysis \n",
    "#### On the 10 fold scale , the model had an average accuracy of 77% and a top accuracy of 83.7% , and a fascinating False Negative Ratio of just 16% , which is one of the most important metrics in our case, since we are trying to detect every single fishing event that happens particulary in endagered zones. \n",
    "\n",
    "#### The model can be deemed successful and is expected to perform better on larger datasets with more AIS signals and covering longer time spaces"
   ]
  },
  {
   "cell_type": "markdown",
   "id": "7d700722",
   "metadata": {},
   "source": [
    "## Random Forest"
   ]
  },
  {
   "cell_type": "code",
   "execution_count": 127,
   "id": "0f4c84d9",
   "metadata": {},
   "outputs": [
    {
     "name": "stdout",
     "output_type": "stream",
     "text": [
      "Accuracy of k folds [0.99977396 0.99977396 0.99706148 1.         0.9988698  0.98326927\n",
      " 0.99954782 1.         1.         1.        ]\n",
      "Average Score 1.9956592593622275\n"
     ]
    }
   ],
   "source": [
    "from sklearn.ensemble import RandomForestClassifier \n",
    "model2 = RandomForestClassifier( n_estimators = 20 )\n",
    "\n",
    "scores = cross_val_score( model2 , x , df_reduced['is_fishing'] , cv = 10 )\n",
    "print ( 'Accuracy of k folds' ,    scores ) \n"
   ]
  },
  {
   "cell_type": "code",
   "execution_count": 128,
   "id": "efec93de",
   "metadata": {},
   "outputs": [
    {
     "name": "stdout",
     "output_type": "stream",
     "text": [
      "Average Score 0.9978296296811138\n"
     ]
    }
   ],
   "source": [
    "print( 'Average Score' , sum(scores)/10 )"
   ]
  },
  {
   "cell_type": "markdown",
   "id": "f172b299",
   "metadata": {},
   "source": [
    "##### Increasing estimators to avoid overfitting"
   ]
  },
  {
   "cell_type": "code",
   "execution_count": 129,
   "id": "94e03be9",
   "metadata": {},
   "outputs": [
    {
     "name": "stdout",
     "output_type": "stream",
     "text": [
      "Accuracy of k folds [1.         1.         0.99728752 1.         0.99841772 0.98779109\n",
      " 0.99954782 1.         1.         1.        ]\n"
     ]
    }
   ],
   "source": [
    "model3 = RandomForestClassifier( n_estimators = 60 )\n",
    "\n",
    "scores = cross_val_score( model2 , x , df_reduced['is_fishing'] , cv = 10 )\n",
    "print ( 'Accuracy of k folds' ,scores ) \n"
   ]
  },
  {
   "cell_type": "code",
   "execution_count": 130,
   "id": "b3ab4288",
   "metadata": {},
   "outputs": [
    {
     "name": "stdout",
     "output_type": "stream",
     "text": [
      "Average Score 0.9983044154364883\n"
     ]
    }
   ],
   "source": [
    "print( 'Average Score' , sum(scores)/10 )"
   ]
  },
  {
   "cell_type": "markdown",
   "id": "001919d2",
   "metadata": {},
   "source": [
    "### Random Forest Analysis \n",
    "#### With an average score of 99.8 , we should excercise caution with the data as we may experience overfitting when dealing with larger and more variant datasets ; however that does not diminish the success of the model with some accuracy rates reaching almost 100% ! \n",
    "\n",
    "#### Another downpoint of the random forest analysis was the execution time that lasted about 8 seconds , which may cause perfomance issues on larger datasets in real time systems that detect fishing events around the globe"
   ]
  },
  {
   "cell_type": "markdown",
   "id": "1a545405",
   "metadata": {},
   "source": [
    "# Conclusion & Recommendations"
   ]
  },
  {
   "cell_type": "markdown",
   "id": "7bc44393",
   "metadata": {},
   "source": [
    "### We can conclude that we can build an effective machine learning model to predict fishing events. We have used  Logistic Regression and Random Forest to predict the is_shippinng field with an average accuracy of 73% and 99% respectivly"
   ]
  },
  {
   "cell_type": "markdown",
   "id": "49c313d9",
   "metadata": {},
   "source": [
    "### We can now test on larger datasets and start building our real time system that can be upgraded to run on live satelite data "
   ]
  },
  {
   "cell_type": "markdown",
   "id": "a7d0f739",
   "metadata": {},
   "source": [
    "### Moreover there are other important patterns that we can find in our data, such as shipping patterns that we can use to optimize shipping both financially and ecologically ,  predicting the model and gear type of vessels to better predict shipping events , and analyzing vessel encounters to better understand shipping routines "
   ]
  },
  {
   "cell_type": "code",
   "execution_count": null,
   "id": "5d1277ba",
   "metadata": {},
   "outputs": [],
   "source": []
  }
 ],
 "metadata": {
  "kernelspec": {
   "display_name": "Python 3",
   "language": "python",
   "name": "python3"
  },
  "language_info": {
   "codemirror_mode": {
    "name": "ipython",
    "version": 3
   },
   "file_extension": ".py",
   "mimetype": "text/x-python",
   "name": "python",
   "nbconvert_exporter": "python",
   "pygments_lexer": "ipython3",
   "version": "3.8.8"
  }
 },
 "nbformat": 4,
 "nbformat_minor": 5
}
